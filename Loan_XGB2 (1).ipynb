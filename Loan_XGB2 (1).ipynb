{
 "cells": [
  {
   "cell_type": "markdown",
   "id": "8c6a184b-8ed2-442d-8d99-eb7d42504cb9",
   "metadata": {},
   "source": [
    "# Importing the necessary libraries"
   ]
  },
  {
   "cell_type": "code",
   "execution_count": 93,
   "id": "1c90cf92-55dd-4219-8094-6d2c2a2980c5",
   "metadata": {
    "tags": []
   },
   "outputs": [],
   "source": [
    "#importing the necessary libraries\n",
    "import pandas as pd\n",
    "import numpy as np\n",
    "import boto3\n",
    "import urllib.request, json, os, sagemaker\n",
    "from sagemaker import get_execution_role\n",
    "from time import gmtime, strftime\n",
    "from sagemaker.predictor import csv_serializer\n",
    "from sagemaker.tuner import (\n",
    "    IntegerParameter,\n",
    "    CategoricalParameter,\n",
    "    ContinuousParameter,\n",
    "    HyperparameterTuner,\n",
    ")\n",
    "import seaborn as sns\n",
    "import pandas as pd\n",
    "import matplotlib.pyplot as plt"
   ]
  },
  {
   "cell_type": "code",
   "execution_count": 94,
   "id": "2db29b41-5f25-4f97-8151-15038a78e561",
   "metadata": {
    "tags": []
   },
   "outputs": [
    {
     "name": "stdout",
     "output_type": "stream",
     "text": [
      "Looking in indexes: https://pypi.org/simple, https://pip.repos.neuron.amazonaws.com\n",
      "Requirement already satisfied: boto3 in /home/ec2-user/anaconda3/envs/pytorch_p39/lib/python3.9/site-packages (1.26.71)\n",
      "Requirement already satisfied: botocore<1.30.0,>=1.29.71 in /home/ec2-user/anaconda3/envs/pytorch_p39/lib/python3.9/site-packages (from boto3) (1.29.71)\n",
      "Requirement already satisfied: jmespath<2.0.0,>=0.7.1 in /home/ec2-user/anaconda3/envs/pytorch_p39/lib/python3.9/site-packages (from boto3) (1.0.1)\n",
      "Requirement already satisfied: s3transfer<0.7.0,>=0.6.0 in /home/ec2-user/anaconda3/envs/pytorch_p39/lib/python3.9/site-packages (from boto3) (0.6.0)\n",
      "Requirement already satisfied: urllib3<1.27,>=1.25.4 in /home/ec2-user/anaconda3/envs/pytorch_p39/lib/python3.9/site-packages (from botocore<1.30.0,>=1.29.71->boto3) (1.26.8)\n",
      "Requirement already satisfied: python-dateutil<3.0.0,>=2.1 in /home/ec2-user/anaconda3/envs/pytorch_p39/lib/python3.9/site-packages (from botocore<1.30.0,>=1.29.71->boto3) (2.8.2)\n",
      "Requirement already satisfied: six>=1.5 in /home/ec2-user/anaconda3/envs/pytorch_p39/lib/python3.9/site-packages (from python-dateutil<3.0.0,>=2.1->botocore<1.30.0,>=1.29.71->boto3) (1.16.0)\n",
      "Note: you may need to restart the kernel to use updated packages.\n"
     ]
    }
   ],
   "source": [
    "pip install boto3"
   ]
  },
  {
   "cell_type": "markdown",
   "id": "a0c030be-0c3b-4285-b33b-644778e8e7be",
   "metadata": {},
   "source": [
    "# Creating buckets and loading dataset"
   ]
  },
  {
   "cell_type": "code",
   "execution_count": 95,
   "id": "a8fb229e-eb11-4bc5-b9d4-780177571ef5",
   "metadata": {
    "tags": []
   },
   "outputs": [
    {
     "name": "stdout",
     "output_type": "stream",
     "text": [
      "auto-ml-test1\n",
      "automl-test2\n",
      "finalproject22a\n",
      "nmv-pipeline\n",
      "nmv-ver1\n",
      "sagemaker-project-p-vxg2dy8ptpix\n",
      "sagemaker-us-east-1-618402266652\n"
     ]
    }
   ],
   "source": [
    "import boto3\n",
    "\n",
    "# Let's use Amazon S3\n",
    "s3 = boto3.resource(\"s3\")\n",
    "\n",
    "# Print out bucket names\n",
    "for bucket in s3.buckets.all():\n",
    "    print(bucket.name)"
   ]
  },
  {
   "cell_type": "code",
   "execution_count": 96,
   "id": "177ac448-a7e1-4ebb-bc70-81c6add12b96",
   "metadata": {
    "tags": []
   },
   "outputs": [],
   "source": [
    "s3 = boto3.resource('s3')"
   ]
  },
  {
   "cell_type": "code",
   "execution_count": 97,
   "id": "bfd968cb-2514-4c3b-8e0f-0570326c37d8",
   "metadata": {
    "tags": []
   },
   "outputs": [],
   "source": [
    "bucket_name = 'finalproject22a'"
   ]
  },
  {
   "cell_type": "code",
   "execution_count": 98,
   "id": "0c624d6f-8090-4fad-a27e-b5bd39ef473f",
   "metadata": {
    "tags": []
   },
   "outputs": [
    {
     "name": "stdout",
     "output_type": "stream",
     "text": [
      "Region: us-east-1\n"
     ]
    }
   ],
   "source": [
    "my_region = boto3.session.Session().region_name\n",
    "prefix = 'sagemaker/MLI-DEMO-xgboost-dm'\n",
    "\n",
    "print(\"Region: {}\".format(my_region))"
   ]
  },
  {
   "cell_type": "code",
   "execution_count": 99,
   "id": "0317ca6d-11a1-4361-b70d-9c7208e5bcb9",
   "metadata": {
    "tags": []
   },
   "outputs": [
    {
     "name": "stdout",
     "output_type": "stream",
     "text": [
      "Bucket already exists!\n"
     ]
    }
   ],
   "source": [
    "try:\n",
    "    if  my_region == 'us-east-1':\n",
    "        if not s3.Bucket(bucket_name).creation_date:\n",
    "            s3.create_bucket(Bucket=bucket_name)\n",
    "            print('S3 bucket created successfully')\n",
    "        else:\n",
    "            print('Bucket already exists!')\n",
    "    else: \n",
    "        if not s3.Bucket(bucket_name).creation_date:\n",
    "            s3.create_bucket(Bucket=bucket_name, CreateBucketConfiguration={'LocationConstraint': my_region})\n",
    "            print('S3 bucket created successfully')\n",
    "        else:\n",
    "            print('Bucket already exists!')\n",
    "except Exception as e:\n",
    "    print('S3 error: ', e)"
   ]
  },
  {
   "cell_type": "code",
   "execution_count": 100,
   "id": "f7ab2511-440e-47f3-8b04-cf06899c76f0",
   "metadata": {
    "tags": []
   },
   "outputs": [],
   "source": [
    "import os\n",
    "\n",
    "DATASET = 'loan_train.csv'\n",
    "DATA_FOLDER = 's3://finalproject22a/archive'\n",
    "data = pd.read_csv(os.path.join(DATA_FOLDER, DATASET))"
   ]
  },
  {
   "cell_type": "markdown",
   "id": "b6dfe1bd-9b4f-4b85-bd76-65c9e3e4a06a",
   "metadata": {},
   "source": [
    "# Preprocessing"
   ]
  },
  {
   "cell_type": "code",
   "execution_count": 101,
   "id": "6598ee19-d0e5-448f-9287-35daee71278c",
   "metadata": {
    "tags": []
   },
   "outputs": [
    {
     "data": {
      "text/plain": [
       "Gender                13\n",
       "Married                3\n",
       "Dependents            15\n",
       "Education              0\n",
       "Self_Employed         32\n",
       "Applicant_Income       0\n",
       "Coapplicant_Income     0\n",
       "Loan_Amount            0\n",
       "Term                  14\n",
       "Credit_History        50\n",
       "Area                   0\n",
       "Status                 0\n",
       "dtype: int64"
      ]
     },
     "execution_count": 101,
     "metadata": {},
     "output_type": "execute_result"
    }
   ],
   "source": [
    "data.isna().sum()"
   ]
  },
  {
   "cell_type": "code",
   "execution_count": 102,
   "id": "1fda5d23-d14d-451f-82d6-8aadf35f35e4",
   "metadata": {
    "tags": []
   },
   "outputs": [],
   "source": [
    "loan = data.dropna()"
   ]
  },
  {
   "cell_type": "code",
   "execution_count": 103,
   "id": "d6c719d6-1e4e-486f-a16c-00794e013fe6",
   "metadata": {
    "tags": []
   },
   "outputs": [
    {
     "name": "stdout",
     "output_type": "stream",
     "text": [
      "<class 'pandas.core.frame.DataFrame'>\n",
      "Int64Index: 499 entries, 0 to 613\n",
      "Data columns (total 12 columns):\n",
      " #   Column              Non-Null Count  Dtype  \n",
      "---  ------              --------------  -----  \n",
      " 0   Gender              499 non-null    string \n",
      " 1   Married             499 non-null    string \n",
      " 2   Dependents          499 non-null    string \n",
      " 3   Education           499 non-null    string \n",
      " 4   Self_Employed       499 non-null    string \n",
      " 5   Applicant_Income    499 non-null    int64  \n",
      " 6   Coapplicant_Income  499 non-null    float64\n",
      " 7   Loan_Amount         499 non-null    int64  \n",
      " 8   Term                499 non-null    float64\n",
      " 9   Credit_History      499 non-null    float64\n",
      " 10  Area                499 non-null    string \n",
      " 11  Status              499 non-null    string \n",
      "dtypes: float64(3), int64(2), string(7)\n",
      "memory usage: 50.7 KB\n"
     ]
    },
    {
     "name": "stderr",
     "output_type": "stream",
     "text": [
      "/tmp/ipykernel_27079/3238559731.py:2: SettingWithCopyWarning: \n",
      "A value is trying to be set on a copy of a slice from a DataFrame.\n",
      "Try using .loc[row_indexer,col_indexer] = value instead\n",
      "\n",
      "See the caveats in the documentation: https://pandas.pydata.org/pandas-docs/stable/user_guide/indexing.html#returning-a-view-versus-a-copy\n",
      "  loan['Gender'] = loan['Gender'].astype('string')\n",
      "/tmp/ipykernel_27079/3238559731.py:3: SettingWithCopyWarning: \n",
      "A value is trying to be set on a copy of a slice from a DataFrame.\n",
      "Try using .loc[row_indexer,col_indexer] = value instead\n",
      "\n",
      "See the caveats in the documentation: https://pandas.pydata.org/pandas-docs/stable/user_guide/indexing.html#returning-a-view-versus-a-copy\n",
      "  loan['Married'] = loan['Married'].astype('string')\n",
      "/tmp/ipykernel_27079/3238559731.py:4: SettingWithCopyWarning: \n",
      "A value is trying to be set on a copy of a slice from a DataFrame.\n",
      "Try using .loc[row_indexer,col_indexer] = value instead\n",
      "\n",
      "See the caveats in the documentation: https://pandas.pydata.org/pandas-docs/stable/user_guide/indexing.html#returning-a-view-versus-a-copy\n",
      "  loan['Dependents'] = loan['Dependents'].astype('string')\n",
      "/tmp/ipykernel_27079/3238559731.py:5: SettingWithCopyWarning: \n",
      "A value is trying to be set on a copy of a slice from a DataFrame.\n",
      "Try using .loc[row_indexer,col_indexer] = value instead\n",
      "\n",
      "See the caveats in the documentation: https://pandas.pydata.org/pandas-docs/stable/user_guide/indexing.html#returning-a-view-versus-a-copy\n",
      "  loan['Education'] = loan['Education'].astype('string')\n",
      "/tmp/ipykernel_27079/3238559731.py:6: SettingWithCopyWarning: \n",
      "A value is trying to be set on a copy of a slice from a DataFrame.\n",
      "Try using .loc[row_indexer,col_indexer] = value instead\n",
      "\n",
      "See the caveats in the documentation: https://pandas.pydata.org/pandas-docs/stable/user_guide/indexing.html#returning-a-view-versus-a-copy\n",
      "  loan['Self_Employed'] = loan['Self_Employed'].astype('string')\n",
      "/tmp/ipykernel_27079/3238559731.py:7: SettingWithCopyWarning: \n",
      "A value is trying to be set on a copy of a slice from a DataFrame.\n",
      "Try using .loc[row_indexer,col_indexer] = value instead\n",
      "\n",
      "See the caveats in the documentation: https://pandas.pydata.org/pandas-docs/stable/user_guide/indexing.html#returning-a-view-versus-a-copy\n",
      "  loan['Area'] = loan['Area'].astype('string')\n",
      "/tmp/ipykernel_27079/3238559731.py:8: SettingWithCopyWarning: \n",
      "A value is trying to be set on a copy of a slice from a DataFrame.\n",
      "Try using .loc[row_indexer,col_indexer] = value instead\n",
      "\n",
      "See the caveats in the documentation: https://pandas.pydata.org/pandas-docs/stable/user_guide/indexing.html#returning-a-view-versus-a-copy\n",
      "  loan['Status'] = loan['Status'].astype('string')\n"
     ]
    }
   ],
   "source": [
    "# Convert the record_id field from an integer to a float\n",
    "loan['Gender'] = loan['Gender'].astype('string')\n",
    "loan['Married'] = loan['Married'].astype('string')\n",
    "loan['Dependents'] = loan['Dependents'].astype('string')\n",
    "loan['Education'] = loan['Education'].astype('string')\n",
    "loan['Self_Employed'] = loan['Self_Employed'].astype('string')\n",
    "loan['Area'] = loan['Area'].astype('string')\n",
    "loan['Status'] = loan['Status'].astype('string')\n",
    "loan.info()"
   ]
  },
  {
   "cell_type": "code",
   "execution_count": 104,
   "id": "63732baf",
   "metadata": {
    "tags": []
   },
   "outputs": [
    {
     "name": "stderr",
     "output_type": "stream",
     "text": [
      "/tmp/ipykernel_27079/3933336101.py:5: SettingWithCopyWarning: \n",
      "A value is trying to be set on a copy of a slice from a DataFrame.\n",
      "Try using .loc[row_indexer,col_indexer] = value instead\n",
      "\n",
      "See the caveats in the documentation: https://pandas.pydata.org/pandas-docs/stable/user_guide/indexing.html#returning-a-view-versus-a-copy\n",
      "  loan[i] =  LabelEncoder().fit_transform(loan[i])\n"
     ]
    }
   ],
   "source": [
    "from sklearn.preprocessing import LabelEncoder\n",
    "\n",
    "for i in loan.columns:\n",
    "    if loan[i].dtypes == 'string':\n",
    "        loan[i] =  LabelEncoder().fit_transform(loan[i])"
   ]
  },
  {
   "cell_type": "code",
   "execution_count": 105,
   "id": "30b16cd0-5167-407d-84f3-390d9433889e",
   "metadata": {
    "tags": []
   },
   "outputs": [],
   "source": [
    "from sklearn.preprocessing import LabelEncoder\n",
    "\n",
    "for i in loan.columns:\n",
    "    if loan[i].dtypes == 'string':\n",
    "        loan[i] =  LabelEncoder().fit_transform(loan[i])"
   ]
  },
  {
   "cell_type": "code",
   "execution_count": 106,
   "id": "9adf7026-0f17-46ab-ae83-93406ab15725",
   "metadata": {
    "tags": []
   },
   "outputs": [],
   "source": [
    "loan2=loan.copy()"
   ]
  },
  {
   "cell_type": "code",
   "execution_count": 107,
   "id": "8ccb5890-1b15-4e45-b4e6-ef252d84dea3",
   "metadata": {
    "tags": []
   },
   "outputs": [
    {
     "data": {
      "text/html": [
       "<div>\n",
       "<style scoped>\n",
       "    .dataframe tbody tr th:only-of-type {\n",
       "        vertical-align: middle;\n",
       "    }\n",
       "\n",
       "    .dataframe tbody tr th {\n",
       "        vertical-align: top;\n",
       "    }\n",
       "\n",
       "    .dataframe thead th {\n",
       "        text-align: right;\n",
       "    }\n",
       "</style>\n",
       "<table border=\"1\" class=\"dataframe\">\n",
       "  <thead>\n",
       "    <tr style=\"text-align: right;\">\n",
       "      <th></th>\n",
       "      <th>Gender</th>\n",
       "      <th>Married</th>\n",
       "      <th>Dependents</th>\n",
       "      <th>Education</th>\n",
       "      <th>Self_Employed</th>\n",
       "      <th>Applicant_Income</th>\n",
       "      <th>Coapplicant_Income</th>\n",
       "      <th>Loan_Amount</th>\n",
       "      <th>Term</th>\n",
       "      <th>Credit_History</th>\n",
       "      <th>Area</th>\n",
       "      <th>Status</th>\n",
       "    </tr>\n",
       "  </thead>\n",
       "  <tbody>\n",
       "    <tr>\n",
       "      <th>0</th>\n",
       "      <td>1</td>\n",
       "      <td>0</td>\n",
       "      <td>0</td>\n",
       "      <td>0</td>\n",
       "      <td>0</td>\n",
       "      <td>584900</td>\n",
       "      <td>0.0</td>\n",
       "      <td>15000000</td>\n",
       "      <td>360.0</td>\n",
       "      <td>1.0</td>\n",
       "      <td>2</td>\n",
       "      <td>1</td>\n",
       "    </tr>\n",
       "    <tr>\n",
       "      <th>1</th>\n",
       "      <td>1</td>\n",
       "      <td>1</td>\n",
       "      <td>1</td>\n",
       "      <td>0</td>\n",
       "      <td>0</td>\n",
       "      <td>458300</td>\n",
       "      <td>150800.0</td>\n",
       "      <td>12800000</td>\n",
       "      <td>360.0</td>\n",
       "      <td>1.0</td>\n",
       "      <td>0</td>\n",
       "      <td>0</td>\n",
       "    </tr>\n",
       "    <tr>\n",
       "      <th>2</th>\n",
       "      <td>1</td>\n",
       "      <td>1</td>\n",
       "      <td>0</td>\n",
       "      <td>0</td>\n",
       "      <td>1</td>\n",
       "      <td>300000</td>\n",
       "      <td>0.0</td>\n",
       "      <td>6600000</td>\n",
       "      <td>360.0</td>\n",
       "      <td>1.0</td>\n",
       "      <td>2</td>\n",
       "      <td>1</td>\n",
       "    </tr>\n",
       "    <tr>\n",
       "      <th>3</th>\n",
       "      <td>1</td>\n",
       "      <td>1</td>\n",
       "      <td>0</td>\n",
       "      <td>1</td>\n",
       "      <td>0</td>\n",
       "      <td>258300</td>\n",
       "      <td>235800.0</td>\n",
       "      <td>12000000</td>\n",
       "      <td>360.0</td>\n",
       "      <td>1.0</td>\n",
       "      <td>2</td>\n",
       "      <td>1</td>\n",
       "    </tr>\n",
       "    <tr>\n",
       "      <th>4</th>\n",
       "      <td>1</td>\n",
       "      <td>0</td>\n",
       "      <td>0</td>\n",
       "      <td>0</td>\n",
       "      <td>0</td>\n",
       "      <td>600000</td>\n",
       "      <td>0.0</td>\n",
       "      <td>14100000</td>\n",
       "      <td>360.0</td>\n",
       "      <td>1.0</td>\n",
       "      <td>2</td>\n",
       "      <td>1</td>\n",
       "    </tr>\n",
       "    <tr>\n",
       "      <th>...</th>\n",
       "      <td>...</td>\n",
       "      <td>...</td>\n",
       "      <td>...</td>\n",
       "      <td>...</td>\n",
       "      <td>...</td>\n",
       "      <td>...</td>\n",
       "      <td>...</td>\n",
       "      <td>...</td>\n",
       "      <td>...</td>\n",
       "      <td>...</td>\n",
       "      <td>...</td>\n",
       "      <td>...</td>\n",
       "    </tr>\n",
       "    <tr>\n",
       "      <th>609</th>\n",
       "      <td>0</td>\n",
       "      <td>0</td>\n",
       "      <td>0</td>\n",
       "      <td>0</td>\n",
       "      <td>0</td>\n",
       "      <td>290000</td>\n",
       "      <td>0.0</td>\n",
       "      <td>7100000</td>\n",
       "      <td>360.0</td>\n",
       "      <td>1.0</td>\n",
       "      <td>0</td>\n",
       "      <td>1</td>\n",
       "    </tr>\n",
       "    <tr>\n",
       "      <th>610</th>\n",
       "      <td>1</td>\n",
       "      <td>1</td>\n",
       "      <td>3</td>\n",
       "      <td>0</td>\n",
       "      <td>0</td>\n",
       "      <td>410600</td>\n",
       "      <td>0.0</td>\n",
       "      <td>4000000</td>\n",
       "      <td>180.0</td>\n",
       "      <td>1.0</td>\n",
       "      <td>0</td>\n",
       "      <td>1</td>\n",
       "    </tr>\n",
       "    <tr>\n",
       "      <th>611</th>\n",
       "      <td>1</td>\n",
       "      <td>1</td>\n",
       "      <td>1</td>\n",
       "      <td>0</td>\n",
       "      <td>0</td>\n",
       "      <td>807200</td>\n",
       "      <td>24000.0</td>\n",
       "      <td>25300000</td>\n",
       "      <td>360.0</td>\n",
       "      <td>1.0</td>\n",
       "      <td>2</td>\n",
       "      <td>1</td>\n",
       "    </tr>\n",
       "    <tr>\n",
       "      <th>612</th>\n",
       "      <td>1</td>\n",
       "      <td>1</td>\n",
       "      <td>2</td>\n",
       "      <td>0</td>\n",
       "      <td>0</td>\n",
       "      <td>758300</td>\n",
       "      <td>0.0</td>\n",
       "      <td>18700000</td>\n",
       "      <td>360.0</td>\n",
       "      <td>1.0</td>\n",
       "      <td>2</td>\n",
       "      <td>1</td>\n",
       "    </tr>\n",
       "    <tr>\n",
       "      <th>613</th>\n",
       "      <td>0</td>\n",
       "      <td>0</td>\n",
       "      <td>0</td>\n",
       "      <td>0</td>\n",
       "      <td>1</td>\n",
       "      <td>458300</td>\n",
       "      <td>0.0</td>\n",
       "      <td>13300000</td>\n",
       "      <td>360.0</td>\n",
       "      <td>0.0</td>\n",
       "      <td>1</td>\n",
       "      <td>0</td>\n",
       "    </tr>\n",
       "  </tbody>\n",
       "</table>\n",
       "<p>499 rows × 12 columns</p>\n",
       "</div>"
      ],
      "text/plain": [
       "     Gender  Married  Dependents  Education  Self_Employed  Applicant_Income  \\\n",
       "0         1        0           0          0              0            584900   \n",
       "1         1        1           1          0              0            458300   \n",
       "2         1        1           0          0              1            300000   \n",
       "3         1        1           0          1              0            258300   \n",
       "4         1        0           0          0              0            600000   \n",
       "..      ...      ...         ...        ...            ...               ...   \n",
       "609       0        0           0          0              0            290000   \n",
       "610       1        1           3          0              0            410600   \n",
       "611       1        1           1          0              0            807200   \n",
       "612       1        1           2          0              0            758300   \n",
       "613       0        0           0          0              1            458300   \n",
       "\n",
       "     Coapplicant_Income  Loan_Amount   Term  Credit_History  Area  Status  \n",
       "0                   0.0     15000000  360.0             1.0     2       1  \n",
       "1              150800.0     12800000  360.0             1.0     0       0  \n",
       "2                   0.0      6600000  360.0             1.0     2       1  \n",
       "3              235800.0     12000000  360.0             1.0     2       1  \n",
       "4                   0.0     14100000  360.0             1.0     2       1  \n",
       "..                  ...          ...    ...             ...   ...     ...  \n",
       "609                 0.0      7100000  360.0             1.0     0       1  \n",
       "610                 0.0      4000000  180.0             1.0     0       1  \n",
       "611             24000.0     25300000  360.0             1.0     2       1  \n",
       "612                 0.0     18700000  360.0             1.0     2       1  \n",
       "613                 0.0     13300000  360.0             0.0     1       0  \n",
       "\n",
       "[499 rows x 12 columns]"
      ]
     },
     "execution_count": 107,
     "metadata": {},
     "output_type": "execute_result"
    }
   ],
   "source": [
    "loan2"
   ]
  },
  {
   "cell_type": "code",
   "execution_count": 108,
   "id": "4bff09be",
   "metadata": {
    "tags": []
   },
   "outputs": [
    {
     "name": "stdout",
     "output_type": "stream",
     "text": [
      "\n",
      "Result dataframe :\n",
      "      Gender  Married  Dependents  Education  Self_Employed  Applicant_Income  \\\n",
      "0         1        0           0          0              0            584900   \n",
      "1         1        1           1          0              0            458300   \n",
      "2         1        1           0          0              1            300000   \n",
      "3         1        1           0          1              0            258300   \n",
      "4         1        0           0          0              0            600000   \n",
      "..      ...      ...         ...        ...            ...               ...   \n",
      "609       0        0           0          0              0            290000   \n",
      "610       1        1           3          0              0            410600   \n",
      "611       1        1           1          0              0            807200   \n",
      "612       1        1           2          0              0            758300   \n",
      "613       0        0           0          0              1            458300   \n",
      "\n",
      "     Coapplicant_Income  Loan_Amount   Term  Credit_History  Area  Status  \n",
      "0                   0.0     15000000  360.0             1.0     2       1  \n",
      "1              150800.0     12800000  360.0             1.0     0       0  \n",
      "2                   0.0      6600000  360.0             1.0     2       1  \n",
      "3              235800.0     12000000  360.0             1.0     2       1  \n",
      "4                   0.0     14100000  360.0             1.0     2       1  \n",
      "..                  ...          ...    ...             ...   ...     ...  \n",
      "609                 0.0      7100000  360.0             1.0     0       1  \n",
      "610                 0.0      4000000  180.0             1.0     0       1  \n",
      "611             24000.0     25300000  360.0             1.0     2       1  \n",
      "612                 0.0     18700000  360.0             1.0     2       1  \n",
      "613                 0.0     13300000  360.0             0.0     1       0  \n",
      "\n",
      "[481 rows x 12 columns]\n"
     ]
    }
   ],
   "source": [
    "loan3 = loan2[loan2['Loan_Amount'] != 0] \n",
    "    \n",
    "print('\\nResult dataframe :\\n', loan3)"
   ]
  },
  {
   "cell_type": "code",
   "execution_count": 109,
   "id": "b5502b78",
   "metadata": {
    "tags": []
   },
   "outputs": [
    {
     "data": {
      "text/html": [
       "<div>\n",
       "<style scoped>\n",
       "    .dataframe tbody tr th:only-of-type {\n",
       "        vertical-align: middle;\n",
       "    }\n",
       "\n",
       "    .dataframe tbody tr th {\n",
       "        vertical-align: top;\n",
       "    }\n",
       "\n",
       "    .dataframe thead th {\n",
       "        text-align: right;\n",
       "    }\n",
       "</style>\n",
       "<table border=\"1\" class=\"dataframe\">\n",
       "  <thead>\n",
       "    <tr style=\"text-align: right;\">\n",
       "      <th></th>\n",
       "      <th>Gender</th>\n",
       "      <th>Married</th>\n",
       "      <th>Dependents</th>\n",
       "      <th>Education</th>\n",
       "      <th>Self_Employed</th>\n",
       "      <th>Applicant_Income</th>\n",
       "      <th>Coapplicant_Income</th>\n",
       "      <th>Loan_Amount</th>\n",
       "      <th>Term</th>\n",
       "      <th>Credit_History</th>\n",
       "      <th>Area</th>\n",
       "      <th>Status</th>\n",
       "    </tr>\n",
       "  </thead>\n",
       "  <tbody>\n",
       "    <tr>\n",
       "      <th>0</th>\n",
       "      <td>1</td>\n",
       "      <td>0</td>\n",
       "      <td>0</td>\n",
       "      <td>0</td>\n",
       "      <td>0</td>\n",
       "      <td>584900</td>\n",
       "      <td>0.0</td>\n",
       "      <td>15000000</td>\n",
       "      <td>360.0</td>\n",
       "      <td>1.0</td>\n",
       "      <td>2</td>\n",
       "      <td>1</td>\n",
       "    </tr>\n",
       "    <tr>\n",
       "      <th>1</th>\n",
       "      <td>1</td>\n",
       "      <td>1</td>\n",
       "      <td>1</td>\n",
       "      <td>0</td>\n",
       "      <td>0</td>\n",
       "      <td>458300</td>\n",
       "      <td>150800.0</td>\n",
       "      <td>12800000</td>\n",
       "      <td>360.0</td>\n",
       "      <td>1.0</td>\n",
       "      <td>0</td>\n",
       "      <td>0</td>\n",
       "    </tr>\n",
       "    <tr>\n",
       "      <th>2</th>\n",
       "      <td>1</td>\n",
       "      <td>1</td>\n",
       "      <td>0</td>\n",
       "      <td>0</td>\n",
       "      <td>1</td>\n",
       "      <td>300000</td>\n",
       "      <td>0.0</td>\n",
       "      <td>6600000</td>\n",
       "      <td>360.0</td>\n",
       "      <td>1.0</td>\n",
       "      <td>2</td>\n",
       "      <td>1</td>\n",
       "    </tr>\n",
       "    <tr>\n",
       "      <th>3</th>\n",
       "      <td>1</td>\n",
       "      <td>1</td>\n",
       "      <td>0</td>\n",
       "      <td>1</td>\n",
       "      <td>0</td>\n",
       "      <td>258300</td>\n",
       "      <td>235800.0</td>\n",
       "      <td>12000000</td>\n",
       "      <td>360.0</td>\n",
       "      <td>1.0</td>\n",
       "      <td>2</td>\n",
       "      <td>1</td>\n",
       "    </tr>\n",
       "    <tr>\n",
       "      <th>4</th>\n",
       "      <td>1</td>\n",
       "      <td>0</td>\n",
       "      <td>0</td>\n",
       "      <td>0</td>\n",
       "      <td>0</td>\n",
       "      <td>600000</td>\n",
       "      <td>0.0</td>\n",
       "      <td>14100000</td>\n",
       "      <td>360.0</td>\n",
       "      <td>1.0</td>\n",
       "      <td>2</td>\n",
       "      <td>1</td>\n",
       "    </tr>\n",
       "    <tr>\n",
       "      <th>...</th>\n",
       "      <td>...</td>\n",
       "      <td>...</td>\n",
       "      <td>...</td>\n",
       "      <td>...</td>\n",
       "      <td>...</td>\n",
       "      <td>...</td>\n",
       "      <td>...</td>\n",
       "      <td>...</td>\n",
       "      <td>...</td>\n",
       "      <td>...</td>\n",
       "      <td>...</td>\n",
       "      <td>...</td>\n",
       "    </tr>\n",
       "    <tr>\n",
       "      <th>609</th>\n",
       "      <td>0</td>\n",
       "      <td>0</td>\n",
       "      <td>0</td>\n",
       "      <td>0</td>\n",
       "      <td>0</td>\n",
       "      <td>290000</td>\n",
       "      <td>0.0</td>\n",
       "      <td>7100000</td>\n",
       "      <td>360.0</td>\n",
       "      <td>1.0</td>\n",
       "      <td>0</td>\n",
       "      <td>1</td>\n",
       "    </tr>\n",
       "    <tr>\n",
       "      <th>610</th>\n",
       "      <td>1</td>\n",
       "      <td>1</td>\n",
       "      <td>3</td>\n",
       "      <td>0</td>\n",
       "      <td>0</td>\n",
       "      <td>410600</td>\n",
       "      <td>0.0</td>\n",
       "      <td>4000000</td>\n",
       "      <td>180.0</td>\n",
       "      <td>1.0</td>\n",
       "      <td>0</td>\n",
       "      <td>1</td>\n",
       "    </tr>\n",
       "    <tr>\n",
       "      <th>611</th>\n",
       "      <td>1</td>\n",
       "      <td>1</td>\n",
       "      <td>1</td>\n",
       "      <td>0</td>\n",
       "      <td>0</td>\n",
       "      <td>807200</td>\n",
       "      <td>24000.0</td>\n",
       "      <td>25300000</td>\n",
       "      <td>360.0</td>\n",
       "      <td>1.0</td>\n",
       "      <td>2</td>\n",
       "      <td>1</td>\n",
       "    </tr>\n",
       "    <tr>\n",
       "      <th>612</th>\n",
       "      <td>1</td>\n",
       "      <td>1</td>\n",
       "      <td>2</td>\n",
       "      <td>0</td>\n",
       "      <td>0</td>\n",
       "      <td>758300</td>\n",
       "      <td>0.0</td>\n",
       "      <td>18700000</td>\n",
       "      <td>360.0</td>\n",
       "      <td>1.0</td>\n",
       "      <td>2</td>\n",
       "      <td>1</td>\n",
       "    </tr>\n",
       "    <tr>\n",
       "      <th>613</th>\n",
       "      <td>0</td>\n",
       "      <td>0</td>\n",
       "      <td>0</td>\n",
       "      <td>0</td>\n",
       "      <td>1</td>\n",
       "      <td>458300</td>\n",
       "      <td>0.0</td>\n",
       "      <td>13300000</td>\n",
       "      <td>360.0</td>\n",
       "      <td>0.0</td>\n",
       "      <td>1</td>\n",
       "      <td>0</td>\n",
       "    </tr>\n",
       "  </tbody>\n",
       "</table>\n",
       "<p>481 rows × 12 columns</p>\n",
       "</div>"
      ],
      "text/plain": [
       "     Gender  Married  Dependents  Education  Self_Employed  Applicant_Income  \\\n",
       "0         1        0           0          0              0            584900   \n",
       "1         1        1           1          0              0            458300   \n",
       "2         1        1           0          0              1            300000   \n",
       "3         1        1           0          1              0            258300   \n",
       "4         1        0           0          0              0            600000   \n",
       "..      ...      ...         ...        ...            ...               ...   \n",
       "609       0        0           0          0              0            290000   \n",
       "610       1        1           3          0              0            410600   \n",
       "611       1        1           1          0              0            807200   \n",
       "612       1        1           2          0              0            758300   \n",
       "613       0        0           0          0              1            458300   \n",
       "\n",
       "     Coapplicant_Income  Loan_Amount   Term  Credit_History  Area  Status  \n",
       "0                   0.0     15000000  360.0             1.0     2       1  \n",
       "1              150800.0     12800000  360.0             1.0     0       0  \n",
       "2                   0.0      6600000  360.0             1.0     2       1  \n",
       "3              235800.0     12000000  360.0             1.0     2       1  \n",
       "4                   0.0     14100000  360.0             1.0     2       1  \n",
       "..                  ...          ...    ...             ...   ...     ...  \n",
       "609                 0.0      7100000  360.0             1.0     0       1  \n",
       "610                 0.0      4000000  180.0             1.0     0       1  \n",
       "611             24000.0     25300000  360.0             1.0     2       1  \n",
       "612                 0.0     18700000  360.0             1.0     2       1  \n",
       "613                 0.0     13300000  360.0             0.0     1       0  \n",
       "\n",
       "[481 rows x 12 columns]"
      ]
     },
     "execution_count": 109,
     "metadata": {},
     "output_type": "execute_result"
    }
   ],
   "source": [
    "loan3"
   ]
  },
  {
   "cell_type": "code",
   "execution_count": 110,
   "id": "6f26a857-d7ba-435d-b9e8-8994960b13df",
   "metadata": {
    "tags": []
   },
   "outputs": [
    {
     "data": {
      "text/plain": [
       "Gender                0\n",
       "Married               0\n",
       "Dependents            0\n",
       "Education             0\n",
       "Self_Employed         0\n",
       "Applicant_Income      0\n",
       "Coapplicant_Income    0\n",
       "Loan_Amount           0\n",
       "Term                  0\n",
       "Credit_History        0\n",
       "Area                  0\n",
       "Status                0\n",
       "dtype: int64"
      ]
     },
     "execution_count": 110,
     "metadata": {},
     "output_type": "execute_result"
    }
   ],
   "source": [
    "loan3.isna().sum()"
   ]
  },
  {
   "cell_type": "code",
   "execution_count": 111,
   "id": "0dc54932-b29a-45ff-8d9e-d19ff2add6e5",
   "metadata": {
    "tags": []
   },
   "outputs": [
    {
     "name": "stdout",
     "output_type": "stream",
     "text": [
      "<class 'pandas.core.frame.DataFrame'>\n",
      "Int64Index: 481 entries, 0 to 613\n",
      "Data columns (total 12 columns):\n",
      " #   Column              Non-Null Count  Dtype  \n",
      "---  ------              --------------  -----  \n",
      " 0   Gender              481 non-null    int64  \n",
      " 1   Married             481 non-null    int64  \n",
      " 2   Dependents          481 non-null    int64  \n",
      " 3   Education           481 non-null    int64  \n",
      " 4   Self_Employed       481 non-null    int64  \n",
      " 5   Applicant_Income    481 non-null    int64  \n",
      " 6   Coapplicant_Income  481 non-null    float64\n",
      " 7   Loan_Amount         481 non-null    int64  \n",
      " 8   Term                481 non-null    float64\n",
      " 9   Credit_History      481 non-null    float64\n",
      " 10  Area                481 non-null    int64  \n",
      " 11  Status              481 non-null    int64  \n",
      "dtypes: float64(3), int64(9)\n",
      "memory usage: 48.9 KB\n"
     ]
    }
   ],
   "source": [
    "loan3.info()"
   ]
  },
  {
   "cell_type": "code",
   "execution_count": 112,
   "id": "f0939305-9105-4375-9399-a05b5a24223e",
   "metadata": {
    "tags": []
   },
   "outputs": [
    {
     "data": {
      "text/html": [
       "<div>\n",
       "<style scoped>\n",
       "    .dataframe tbody tr th:only-of-type {\n",
       "        vertical-align: middle;\n",
       "    }\n",
       "\n",
       "    .dataframe tbody tr th {\n",
       "        vertical-align: top;\n",
       "    }\n",
       "\n",
       "    .dataframe thead th {\n",
       "        text-align: right;\n",
       "    }\n",
       "</style>\n",
       "<table border=\"1\" class=\"dataframe\">\n",
       "  <thead>\n",
       "    <tr style=\"text-align: right;\">\n",
       "      <th></th>\n",
       "      <th>Gender</th>\n",
       "      <th>Married</th>\n",
       "      <th>Dependents</th>\n",
       "      <th>Education</th>\n",
       "      <th>Self_Employed</th>\n",
       "      <th>Applicant_Income</th>\n",
       "      <th>Coapplicant_Income</th>\n",
       "      <th>Loan_Amount</th>\n",
       "      <th>Term</th>\n",
       "      <th>Credit_History</th>\n",
       "      <th>Area</th>\n",
       "      <th>Status</th>\n",
       "    </tr>\n",
       "  </thead>\n",
       "  <tbody>\n",
       "    <tr>\n",
       "      <th>count</th>\n",
       "      <td>481.000000</td>\n",
       "      <td>481.000000</td>\n",
       "      <td>481.000000</td>\n",
       "      <td>481.000000</td>\n",
       "      <td>481.000000</td>\n",
       "      <td>4.810000e+02</td>\n",
       "      <td>4.810000e+02</td>\n",
       "      <td>4.810000e+02</td>\n",
       "      <td>481.000000</td>\n",
       "      <td>481.000000</td>\n",
       "      <td>481.000000</td>\n",
       "      <td>481.000000</td>\n",
       "    </tr>\n",
       "    <tr>\n",
       "      <th>mean</th>\n",
       "      <td>0.821206</td>\n",
       "      <td>0.646570</td>\n",
       "      <td>0.775468</td>\n",
       "      <td>0.201663</td>\n",
       "      <td>0.137214</td>\n",
       "      <td>5.365239e+05</td>\n",
       "      <td>1.577806e+05</td>\n",
       "      <td>1.447464e+07</td>\n",
       "      <td>342.087318</td>\n",
       "      <td>0.854470</td>\n",
       "      <td>1.024948</td>\n",
       "      <td>0.692308</td>\n",
       "    </tr>\n",
       "    <tr>\n",
       "      <th>std</th>\n",
       "      <td>0.383579</td>\n",
       "      <td>0.478533</td>\n",
       "      <td>1.020366</td>\n",
       "      <td>0.401660</td>\n",
       "      <td>0.344431</td>\n",
       "      <td>5.662387e+05</td>\n",
       "      <td>2.615958e+05</td>\n",
       "      <td>8.042462e+06</td>\n",
       "      <td>65.149577</td>\n",
       "      <td>0.353002</td>\n",
       "      <td>0.776880</td>\n",
       "      <td>0.462019</td>\n",
       "    </tr>\n",
       "    <tr>\n",
       "      <th>min</th>\n",
       "      <td>0.000000</td>\n",
       "      <td>0.000000</td>\n",
       "      <td>0.000000</td>\n",
       "      <td>0.000000</td>\n",
       "      <td>0.000000</td>\n",
       "      <td>1.500000e+04</td>\n",
       "      <td>0.000000e+00</td>\n",
       "      <td>9.000000e+05</td>\n",
       "      <td>36.000000</td>\n",
       "      <td>0.000000</td>\n",
       "      <td>0.000000</td>\n",
       "      <td>0.000000</td>\n",
       "    </tr>\n",
       "    <tr>\n",
       "      <th>25%</th>\n",
       "      <td>1.000000</td>\n",
       "      <td>0.000000</td>\n",
       "      <td>0.000000</td>\n",
       "      <td>0.000000</td>\n",
       "      <td>0.000000</td>\n",
       "      <td>2.900000e+05</td>\n",
       "      <td>0.000000e+00</td>\n",
       "      <td>1.000000e+07</td>\n",
       "      <td>360.000000</td>\n",
       "      <td>1.000000</td>\n",
       "      <td>0.000000</td>\n",
       "      <td>0.000000</td>\n",
       "    </tr>\n",
       "    <tr>\n",
       "      <th>50%</th>\n",
       "      <td>1.000000</td>\n",
       "      <td>1.000000</td>\n",
       "      <td>0.000000</td>\n",
       "      <td>0.000000</td>\n",
       "      <td>0.000000</td>\n",
       "      <td>3.859000e+05</td>\n",
       "      <td>1.083000e+05</td>\n",
       "      <td>1.280000e+07</td>\n",
       "      <td>360.000000</td>\n",
       "      <td>1.000000</td>\n",
       "      <td>1.000000</td>\n",
       "      <td>1.000000</td>\n",
       "    </tr>\n",
       "    <tr>\n",
       "      <th>75%</th>\n",
       "      <td>1.000000</td>\n",
       "      <td>1.000000</td>\n",
       "      <td>2.000000</td>\n",
       "      <td>0.000000</td>\n",
       "      <td>0.000000</td>\n",
       "      <td>5.849000e+05</td>\n",
       "      <td>2.253000e+05</td>\n",
       "      <td>1.700000e+07</td>\n",
       "      <td>360.000000</td>\n",
       "      <td>1.000000</td>\n",
       "      <td>2.000000</td>\n",
       "      <td>1.000000</td>\n",
       "    </tr>\n",
       "    <tr>\n",
       "      <th>max</th>\n",
       "      <td>1.000000</td>\n",
       "      <td>1.000000</td>\n",
       "      <td>3.000000</td>\n",
       "      <td>1.000000</td>\n",
       "      <td>1.000000</td>\n",
       "      <td>8.100000e+06</td>\n",
       "      <td>3.383700e+06</td>\n",
       "      <td>6.000000e+07</td>\n",
       "      <td>480.000000</td>\n",
       "      <td>1.000000</td>\n",
       "      <td>2.000000</td>\n",
       "      <td>1.000000</td>\n",
       "    </tr>\n",
       "  </tbody>\n",
       "</table>\n",
       "</div>"
      ],
      "text/plain": [
       "           Gender     Married  Dependents   Education  Self_Employed  \\\n",
       "count  481.000000  481.000000  481.000000  481.000000     481.000000   \n",
       "mean     0.821206    0.646570    0.775468    0.201663       0.137214   \n",
       "std      0.383579    0.478533    1.020366    0.401660       0.344431   \n",
       "min      0.000000    0.000000    0.000000    0.000000       0.000000   \n",
       "25%      1.000000    0.000000    0.000000    0.000000       0.000000   \n",
       "50%      1.000000    1.000000    0.000000    0.000000       0.000000   \n",
       "75%      1.000000    1.000000    2.000000    0.000000       0.000000   \n",
       "max      1.000000    1.000000    3.000000    1.000000       1.000000   \n",
       "\n",
       "       Applicant_Income  Coapplicant_Income   Loan_Amount        Term  \\\n",
       "count      4.810000e+02        4.810000e+02  4.810000e+02  481.000000   \n",
       "mean       5.365239e+05        1.577806e+05  1.447464e+07  342.087318   \n",
       "std        5.662387e+05        2.615958e+05  8.042462e+06   65.149577   \n",
       "min        1.500000e+04        0.000000e+00  9.000000e+05   36.000000   \n",
       "25%        2.900000e+05        0.000000e+00  1.000000e+07  360.000000   \n",
       "50%        3.859000e+05        1.083000e+05  1.280000e+07  360.000000   \n",
       "75%        5.849000e+05        2.253000e+05  1.700000e+07  360.000000   \n",
       "max        8.100000e+06        3.383700e+06  6.000000e+07  480.000000   \n",
       "\n",
       "       Credit_History        Area      Status  \n",
       "count      481.000000  481.000000  481.000000  \n",
       "mean         0.854470    1.024948    0.692308  \n",
       "std          0.353002    0.776880    0.462019  \n",
       "min          0.000000    0.000000    0.000000  \n",
       "25%          1.000000    0.000000    0.000000  \n",
       "50%          1.000000    1.000000    1.000000  \n",
       "75%          1.000000    2.000000    1.000000  \n",
       "max          1.000000    2.000000    1.000000  "
      ]
     },
     "execution_count": 112,
     "metadata": {},
     "output_type": "execute_result"
    }
   ],
   "source": [
    "loan3.describe()"
   ]
  },
  {
   "cell_type": "code",
   "execution_count": 113,
   "id": "74da6a1b-a664-4441-aeb1-45189e1b5384",
   "metadata": {
    "tags": []
   },
   "outputs": [
    {
     "data": {
      "text/plain": [
       "Status\n",
       "1    333\n",
       "0    148\n",
       "dtype: int64"
      ]
     },
     "execution_count": 113,
     "metadata": {},
     "output_type": "execute_result"
    }
   ],
   "source": [
    "loan3.value_counts('Status')"
   ]
  },
  {
   "cell_type": "code",
   "execution_count": 114,
   "id": "81b19143-3e05-492d-8186-d29c14f9cf67",
   "metadata": {
    "tags": []
   },
   "outputs": [
    {
     "data": {
      "text/html": [
       "<div>\n",
       "<style scoped>\n",
       "    .dataframe tbody tr th:only-of-type {\n",
       "        vertical-align: middle;\n",
       "    }\n",
       "\n",
       "    .dataframe tbody tr th {\n",
       "        vertical-align: top;\n",
       "    }\n",
       "\n",
       "    .dataframe thead th {\n",
       "        text-align: right;\n",
       "    }\n",
       "</style>\n",
       "<table border=\"1\" class=\"dataframe\">\n",
       "  <thead>\n",
       "    <tr style=\"text-align: right;\">\n",
       "      <th></th>\n",
       "      <th>Gender</th>\n",
       "      <th>Married</th>\n",
       "      <th>Dependents</th>\n",
       "      <th>Education</th>\n",
       "      <th>Self_Employed</th>\n",
       "      <th>Applicant_Income</th>\n",
       "      <th>Coapplicant_Income</th>\n",
       "      <th>Loan_Amount</th>\n",
       "      <th>Term</th>\n",
       "      <th>Credit_History</th>\n",
       "      <th>Area</th>\n",
       "      <th>Status</th>\n",
       "    </tr>\n",
       "  </thead>\n",
       "  <tbody>\n",
       "    <tr>\n",
       "      <th>Gender</th>\n",
       "      <td>1.000000</td>\n",
       "      <td>0.347364</td>\n",
       "      <td>0.216590</td>\n",
       "      <td>0.058727</td>\n",
       "      <td>-0.003147</td>\n",
       "      <td>0.032719</td>\n",
       "      <td>0.155489</td>\n",
       "      <td>0.099016</td>\n",
       "      <td>-0.088410</td>\n",
       "      <td>0.022839</td>\n",
       "      <td>0.001017</td>\n",
       "      <td>0.065108</td>\n",
       "    </tr>\n",
       "    <tr>\n",
       "      <th>Married</th>\n",
       "      <td>0.347364</td>\n",
       "      <td>1.000000</td>\n",
       "      <td>0.387542</td>\n",
       "      <td>0.003065</td>\n",
       "      <td>0.016766</td>\n",
       "      <td>0.036406</td>\n",
       "      <td>0.104416</td>\n",
       "      <td>0.182907</td>\n",
       "      <td>-0.108066</td>\n",
       "      <td>0.027871</td>\n",
       "      <td>0.034975</td>\n",
       "      <td>0.110176</td>\n",
       "    </tr>\n",
       "    <tr>\n",
       "      <th>Dependents</th>\n",
       "      <td>0.216590</td>\n",
       "      <td>0.387542</td>\n",
       "      <td>1.000000</td>\n",
       "      <td>0.029379</td>\n",
       "      <td>0.046351</td>\n",
       "      <td>0.130924</td>\n",
       "      <td>0.000639</td>\n",
       "      <td>0.172572</td>\n",
       "      <td>-0.096731</td>\n",
       "      <td>-0.027284</td>\n",
       "      <td>-0.000803</td>\n",
       "      <td>0.034334</td>\n",
       "    </tr>\n",
       "    <tr>\n",
       "      <th>Education</th>\n",
       "      <td>0.058727</td>\n",
       "      <td>0.003065</td>\n",
       "      <td>0.029379</td>\n",
       "      <td>1.000000</td>\n",
       "      <td>-0.004665</td>\n",
       "      <td>-0.131226</td>\n",
       "      <td>-0.073819</td>\n",
       "      <td>-0.172802</td>\n",
       "      <td>-0.102421</td>\n",
       "      <td>-0.057063</td>\n",
       "      <td>-0.056216</td>\n",
       "      <td>-0.069086</td>\n",
       "    </tr>\n",
       "    <tr>\n",
       "      <th>Self_Employed</th>\n",
       "      <td>-0.003147</td>\n",
       "      <td>0.016766</td>\n",
       "      <td>0.046351</td>\n",
       "      <td>-0.004665</td>\n",
       "      <td>1.000000</td>\n",
       "      <td>0.170684</td>\n",
       "      <td>-0.001006</td>\n",
       "      <td>0.120314</td>\n",
       "      <td>-0.035072</td>\n",
       "      <td>-0.023903</td>\n",
       "      <td>-0.051749</td>\n",
       "      <td>-0.035247</td>\n",
       "    </tr>\n",
       "    <tr>\n",
       "      <th>Applicant_Income</th>\n",
       "      <td>0.032719</td>\n",
       "      <td>0.036406</td>\n",
       "      <td>0.130924</td>\n",
       "      <td>-0.131226</td>\n",
       "      <td>0.170684</td>\n",
       "      <td>1.000000</td>\n",
       "      <td>-0.112652</td>\n",
       "      <td>0.495315</td>\n",
       "      <td>-0.010788</td>\n",
       "      <td>-0.056068</td>\n",
       "      <td>-0.052848</td>\n",
       "      <td>-0.043012</td>\n",
       "    </tr>\n",
       "    <tr>\n",
       "      <th>Coapplicant_Income</th>\n",
       "      <td>0.155489</td>\n",
       "      <td>0.104416</td>\n",
       "      <td>0.000639</td>\n",
       "      <td>-0.073819</td>\n",
       "      <td>-0.001006</td>\n",
       "      <td>-0.112652</td>\n",
       "      <td>1.000000</td>\n",
       "      <td>0.190584</td>\n",
       "      <td>-0.006118</td>\n",
       "      <td>-0.009206</td>\n",
       "      <td>0.004946</td>\n",
       "      <td>-0.049817</td>\n",
       "    </tr>\n",
       "    <tr>\n",
       "      <th>Loan_Amount</th>\n",
       "      <td>0.099016</td>\n",
       "      <td>0.182907</td>\n",
       "      <td>0.172572</td>\n",
       "      <td>-0.172802</td>\n",
       "      <td>0.120314</td>\n",
       "      <td>0.495315</td>\n",
       "      <td>0.190584</td>\n",
       "      <td>1.000000</td>\n",
       "      <td>0.050900</td>\n",
       "      <td>-0.040709</td>\n",
       "      <td>-0.109333</td>\n",
       "      <td>-0.071628</td>\n",
       "    </tr>\n",
       "    <tr>\n",
       "      <th>Term</th>\n",
       "      <td>-0.088410</td>\n",
       "      <td>-0.108066</td>\n",
       "      <td>-0.096731</td>\n",
       "      <td>-0.102421</td>\n",
       "      <td>-0.035072</td>\n",
       "      <td>-0.010788</td>\n",
       "      <td>-0.006118</td>\n",
       "      <td>0.050900</td>\n",
       "      <td>1.000000</td>\n",
       "      <td>0.033165</td>\n",
       "      <td>-0.057834</td>\n",
       "      <td>-0.007411</td>\n",
       "    </tr>\n",
       "    <tr>\n",
       "      <th>Credit_History</th>\n",
       "      <td>0.022839</td>\n",
       "      <td>0.027871</td>\n",
       "      <td>-0.027284</td>\n",
       "      <td>-0.057063</td>\n",
       "      <td>-0.023903</td>\n",
       "      <td>-0.056068</td>\n",
       "      <td>-0.009206</td>\n",
       "      <td>-0.040709</td>\n",
       "      <td>0.033165</td>\n",
       "      <td>1.000000</td>\n",
       "      <td>-0.001927</td>\n",
       "      <td>0.529624</td>\n",
       "    </tr>\n",
       "    <tr>\n",
       "      <th>Area</th>\n",
       "      <td>0.001017</td>\n",
       "      <td>0.034975</td>\n",
       "      <td>-0.000803</td>\n",
       "      <td>-0.056216</td>\n",
       "      <td>-0.051749</td>\n",
       "      <td>-0.052848</td>\n",
       "      <td>0.004946</td>\n",
       "      <td>-0.109333</td>\n",
       "      <td>-0.057834</td>\n",
       "      <td>-0.001927</td>\n",
       "      <td>1.000000</td>\n",
       "      <td>0.033039</td>\n",
       "    </tr>\n",
       "    <tr>\n",
       "      <th>Status</th>\n",
       "      <td>0.065108</td>\n",
       "      <td>0.110176</td>\n",
       "      <td>0.034334</td>\n",
       "      <td>-0.069086</td>\n",
       "      <td>-0.035247</td>\n",
       "      <td>-0.043012</td>\n",
       "      <td>-0.049817</td>\n",
       "      <td>-0.071628</td>\n",
       "      <td>-0.007411</td>\n",
       "      <td>0.529624</td>\n",
       "      <td>0.033039</td>\n",
       "      <td>1.000000</td>\n",
       "    </tr>\n",
       "  </tbody>\n",
       "</table>\n",
       "</div>"
      ],
      "text/plain": [
       "                      Gender   Married  Dependents  Education  Self_Employed  \\\n",
       "Gender              1.000000  0.347364    0.216590   0.058727      -0.003147   \n",
       "Married             0.347364  1.000000    0.387542   0.003065       0.016766   \n",
       "Dependents          0.216590  0.387542    1.000000   0.029379       0.046351   \n",
       "Education           0.058727  0.003065    0.029379   1.000000      -0.004665   \n",
       "Self_Employed      -0.003147  0.016766    0.046351  -0.004665       1.000000   \n",
       "Applicant_Income    0.032719  0.036406    0.130924  -0.131226       0.170684   \n",
       "Coapplicant_Income  0.155489  0.104416    0.000639  -0.073819      -0.001006   \n",
       "Loan_Amount         0.099016  0.182907    0.172572  -0.172802       0.120314   \n",
       "Term               -0.088410 -0.108066   -0.096731  -0.102421      -0.035072   \n",
       "Credit_History      0.022839  0.027871   -0.027284  -0.057063      -0.023903   \n",
       "Area                0.001017  0.034975   -0.000803  -0.056216      -0.051749   \n",
       "Status              0.065108  0.110176    0.034334  -0.069086      -0.035247   \n",
       "\n",
       "                    Applicant_Income  Coapplicant_Income  Loan_Amount  \\\n",
       "Gender                      0.032719            0.155489     0.099016   \n",
       "Married                     0.036406            0.104416     0.182907   \n",
       "Dependents                  0.130924            0.000639     0.172572   \n",
       "Education                  -0.131226           -0.073819    -0.172802   \n",
       "Self_Employed               0.170684           -0.001006     0.120314   \n",
       "Applicant_Income            1.000000           -0.112652     0.495315   \n",
       "Coapplicant_Income         -0.112652            1.000000     0.190584   \n",
       "Loan_Amount                 0.495315            0.190584     1.000000   \n",
       "Term                       -0.010788           -0.006118     0.050900   \n",
       "Credit_History             -0.056068           -0.009206    -0.040709   \n",
       "Area                       -0.052848            0.004946    -0.109333   \n",
       "Status                     -0.043012           -0.049817    -0.071628   \n",
       "\n",
       "                        Term  Credit_History      Area    Status  \n",
       "Gender             -0.088410        0.022839  0.001017  0.065108  \n",
       "Married            -0.108066        0.027871  0.034975  0.110176  \n",
       "Dependents         -0.096731       -0.027284 -0.000803  0.034334  \n",
       "Education          -0.102421       -0.057063 -0.056216 -0.069086  \n",
       "Self_Employed      -0.035072       -0.023903 -0.051749 -0.035247  \n",
       "Applicant_Income   -0.010788       -0.056068 -0.052848 -0.043012  \n",
       "Coapplicant_Income -0.006118       -0.009206  0.004946 -0.049817  \n",
       "Loan_Amount         0.050900       -0.040709 -0.109333 -0.071628  \n",
       "Term                1.000000        0.033165 -0.057834 -0.007411  \n",
       "Credit_History      0.033165        1.000000 -0.001927  0.529624  \n",
       "Area               -0.057834       -0.001927  1.000000  0.033039  \n",
       "Status             -0.007411        0.529624  0.033039  1.000000  "
      ]
     },
     "execution_count": 114,
     "metadata": {},
     "output_type": "execute_result"
    }
   ],
   "source": [
    "loan3.corr()"
   ]
  },
  {
   "cell_type": "markdown",
   "id": "0282f41f-5df4-4179-a52c-da771e408311",
   "metadata": {
    "tags": []
   },
   "source": [
    "# Spliting the dataset "
   ]
  },
  {
   "cell_type": "code",
   "execution_count": 116,
   "id": "04733ce0-1f82-4377-8532-d96bb0f212d7",
   "metadata": {
    "tags": []
   },
   "outputs": [],
   "source": [
    "import boto3\n",
    "import urllib.request, json, os, sagemaker\n",
    "from sagemaker import get_execution_role\n",
    "from time import gmtime, strftime\n",
    "from sagemaker.predictor import csv_serializer\n",
    "from sagemaker.tuner import (\n",
    "    IntegerParameter,\n",
    "    CategoricalParameter,\n",
    "    ContinuousParameter,\n",
    "    HyperparameterTuner,\n",
    ")"
   ]
  },
  {
   "cell_type": "code",
   "execution_count": 117,
   "id": "4c749739-9070-4eb3-b34e-688f355b4e6e",
   "metadata": {
    "tags": []
   },
   "outputs": [
    {
     "name": "stdout",
     "output_type": "stream",
     "text": [
      "(336, 12) (49, 12) (96, 12)\n"
     ]
    }
   ],
   "source": [
    "train_data, validation_data, test_data = np.split(\n",
    "    loan3.sample(frac=1, random_state=1730),\n",
    "    [int(0.7 * len(loan3)), int(0.9 * len(loan3))],\n",
    ")\n",
    "\n",
    "\n",
    "print(train_data.shape, test_data.shape, validation_data.shape)"
   ]
  },
  {
   "cell_type": "code",
   "execution_count": 118,
   "id": "cc4ff654-c8c5-4c1c-8f45-0350dffa678a",
   "metadata": {
    "tags": []
   },
   "outputs": [
    {
     "name": "stderr",
     "output_type": "stream",
     "text": [
      "INFO:botocore.credentials:Found credentials from IAM Role: BaseNotebookInstanceEc2InstanceRole\n"
     ]
    }
   ],
   "source": [
    "label_column = train_data['Status']\n",
    "train_data = train_data.drop(['Status'], axis=1)\n",
    "train_data = pd.concat([label_column, train_data], axis=1)\n",
    "\n",
    "train_data.to_csv('train.csv', index=False, header=False)\n",
    "\n",
    "boto3.Session().resource('s3').Bucket(bucket_name).Object(os.path.join(prefix, 'train/train.csv')).upload_file('train.csv')\n",
    "s3_input_train = sagemaker.TrainingInput(s3_data='s3://{}/{}/train'.format(bucket_name, prefix), content_type='csv')"
   ]
  },
  {
   "cell_type": "code",
   "execution_count": 119,
   "id": "ab22eeb6-f93f-4597-a267-b36084fa1d6e",
   "metadata": {
    "tags": []
   },
   "outputs": [
    {
     "data": {
      "text/html": [
       "<div>\n",
       "<style scoped>\n",
       "    .dataframe tbody tr th:only-of-type {\n",
       "        vertical-align: middle;\n",
       "    }\n",
       "\n",
       "    .dataframe tbody tr th {\n",
       "        vertical-align: top;\n",
       "    }\n",
       "\n",
       "    .dataframe thead th {\n",
       "        text-align: right;\n",
       "    }\n",
       "</style>\n",
       "<table border=\"1\" class=\"dataframe\">\n",
       "  <thead>\n",
       "    <tr style=\"text-align: right;\">\n",
       "      <th></th>\n",
       "      <th>Status</th>\n",
       "      <th>Gender</th>\n",
       "      <th>Married</th>\n",
       "      <th>Dependents</th>\n",
       "      <th>Education</th>\n",
       "      <th>Self_Employed</th>\n",
       "      <th>Applicant_Income</th>\n",
       "      <th>Coapplicant_Income</th>\n",
       "      <th>Loan_Amount</th>\n",
       "      <th>Term</th>\n",
       "      <th>Credit_History</th>\n",
       "      <th>Area</th>\n",
       "    </tr>\n",
       "  </thead>\n",
       "  <tbody>\n",
       "    <tr>\n",
       "      <th>14</th>\n",
       "      <td>1</td>\n",
       "      <td>1</td>\n",
       "      <td>1</td>\n",
       "      <td>2</td>\n",
       "      <td>0</td>\n",
       "      <td>0</td>\n",
       "      <td>129900</td>\n",
       "      <td>108600.0</td>\n",
       "      <td>1700000</td>\n",
       "      <td>120.0</td>\n",
       "      <td>1.0</td>\n",
       "      <td>2</td>\n",
       "    </tr>\n",
       "    <tr>\n",
       "      <th>342</th>\n",
       "      <td>1</td>\n",
       "      <td>1</td>\n",
       "      <td>1</td>\n",
       "      <td>1</td>\n",
       "      <td>1</td>\n",
       "      <td>0</td>\n",
       "      <td>455400</td>\n",
       "      <td>122900.0</td>\n",
       "      <td>15800000</td>\n",
       "      <td>360.0</td>\n",
       "      <td>1.0</td>\n",
       "      <td>2</td>\n",
       "    </tr>\n",
       "    <tr>\n",
       "      <th>418</th>\n",
       "      <td>1</td>\n",
       "      <td>1</td>\n",
       "      <td>1</td>\n",
       "      <td>0</td>\n",
       "      <td>0</td>\n",
       "      <td>0</td>\n",
       "      <td>102500</td>\n",
       "      <td>277300.0</td>\n",
       "      <td>11200000</td>\n",
       "      <td>360.0</td>\n",
       "      <td>1.0</td>\n",
       "      <td>0</td>\n",
       "    </tr>\n",
       "    <tr>\n",
       "      <th>328</th>\n",
       "      <td>0</td>\n",
       "      <td>0</td>\n",
       "      <td>1</td>\n",
       "      <td>0</td>\n",
       "      <td>0</td>\n",
       "      <td>0</td>\n",
       "      <td>433300</td>\n",
       "      <td>245100.0</td>\n",
       "      <td>11000000</td>\n",
       "      <td>360.0</td>\n",
       "      <td>1.0</td>\n",
       "      <td>2</td>\n",
       "    </tr>\n",
       "    <tr>\n",
       "      <th>593</th>\n",
       "      <td>1</td>\n",
       "      <td>1</td>\n",
       "      <td>1</td>\n",
       "      <td>0</td>\n",
       "      <td>0</td>\n",
       "      <td>0</td>\n",
       "      <td>385900</td>\n",
       "      <td>330000.0</td>\n",
       "      <td>14200000</td>\n",
       "      <td>180.0</td>\n",
       "      <td>1.0</td>\n",
       "      <td>0</td>\n",
       "    </tr>\n",
       "  </tbody>\n",
       "</table>\n",
       "</div>"
      ],
      "text/plain": [
       "     Status  Gender  Married  Dependents  Education  Self_Employed  \\\n",
       "14        1       1        1           2          0              0   \n",
       "342       1       1        1           1          1              0   \n",
       "418       1       1        1           0          0              0   \n",
       "328       0       0        1           0          0              0   \n",
       "593       1       1        1           0          0              0   \n",
       "\n",
       "     Applicant_Income  Coapplicant_Income  Loan_Amount   Term  Credit_History  \\\n",
       "14             129900            108600.0      1700000  120.0             1.0   \n",
       "342            455400            122900.0     15800000  360.0             1.0   \n",
       "418            102500            277300.0     11200000  360.0             1.0   \n",
       "328            433300            245100.0     11000000  360.0             1.0   \n",
       "593            385900            330000.0     14200000  180.0             1.0   \n",
       "\n",
       "     Area  \n",
       "14      2  \n",
       "342     2  \n",
       "418     0  \n",
       "328     2  \n",
       "593     0  "
      ]
     },
     "execution_count": 119,
     "metadata": {},
     "output_type": "execute_result"
    }
   ],
   "source": [
    "train_data.head()"
   ]
  },
  {
   "cell_type": "code",
   "execution_count": 120,
   "id": "44319903-64bb-4b0f-9a2d-3c0af8a6f67c",
   "metadata": {
    "tags": []
   },
   "outputs": [
    {
     "name": "stderr",
     "output_type": "stream",
     "text": [
      "INFO:botocore.credentials:Found credentials from IAM Role: BaseNotebookInstanceEc2InstanceRole\n"
     ]
    }
   ],
   "source": [
    "label_column = validation_data['Status']\n",
    "validation_data = validation_data.drop(['Status'], axis=1)\n",
    "validation_data = pd.concat([label_column, validation_data], axis=1)\n",
    "\n",
    "validation_data.to_csv('validation.csv', index=False, header=False)\n",
    "\n",
    "boto3.Session().resource(\"s3\").Bucket(bucket_name).Object(os.path.join(prefix, \"validation/validation.csv\")).upload_file(\"validation.csv\")\n",
    "\n",
    "s3_input_validation = sagemaker.TrainingInput(s3_data='s3://{}/{}/validation'.format(bucket_name, prefix), content_type='csv')"
   ]
  },
  {
   "cell_type": "code",
   "execution_count": 121,
   "id": "6777b530-6406-40f9-bf00-4a5483b65207",
   "metadata": {
    "tags": []
   },
   "outputs": [
    {
     "data": {
      "text/html": [
       "<div>\n",
       "<style scoped>\n",
       "    .dataframe tbody tr th:only-of-type {\n",
       "        vertical-align: middle;\n",
       "    }\n",
       "\n",
       "    .dataframe tbody tr th {\n",
       "        vertical-align: top;\n",
       "    }\n",
       "\n",
       "    .dataframe thead th {\n",
       "        text-align: right;\n",
       "    }\n",
       "</style>\n",
       "<table border=\"1\" class=\"dataframe\">\n",
       "  <thead>\n",
       "    <tr style=\"text-align: right;\">\n",
       "      <th></th>\n",
       "      <th>Status</th>\n",
       "      <th>Gender</th>\n",
       "      <th>Married</th>\n",
       "      <th>Dependents</th>\n",
       "      <th>Education</th>\n",
       "      <th>Self_Employed</th>\n",
       "      <th>Applicant_Income</th>\n",
       "      <th>Coapplicant_Income</th>\n",
       "      <th>Loan_Amount</th>\n",
       "      <th>Term</th>\n",
       "      <th>Credit_History</th>\n",
       "      <th>Area</th>\n",
       "    </tr>\n",
       "  </thead>\n",
       "  <tbody>\n",
       "    <tr>\n",
       "      <th>141</th>\n",
       "      <td>1</td>\n",
       "      <td>1</td>\n",
       "      <td>0</td>\n",
       "      <td>0</td>\n",
       "      <td>0</td>\n",
       "      <td>0</td>\n",
       "      <td>541700</td>\n",
       "      <td>0.0</td>\n",
       "      <td>16800000</td>\n",
       "      <td>360.0</td>\n",
       "      <td>1.0</td>\n",
       "      <td>2</td>\n",
       "    </tr>\n",
       "    <tr>\n",
       "      <th>502</th>\n",
       "      <td>1</td>\n",
       "      <td>1</td>\n",
       "      <td>1</td>\n",
       "      <td>2</td>\n",
       "      <td>0</td>\n",
       "      <td>0</td>\n",
       "      <td>486500</td>\n",
       "      <td>562400.0</td>\n",
       "      <td>20800000</td>\n",
       "      <td>360.0</td>\n",
       "      <td>1.0</td>\n",
       "      <td>1</td>\n",
       "    </tr>\n",
       "    <tr>\n",
       "      <th>584</th>\n",
       "      <td>0</td>\n",
       "      <td>1</td>\n",
       "      <td>1</td>\n",
       "      <td>1</td>\n",
       "      <td>0</td>\n",
       "      <td>0</td>\n",
       "      <td>278700</td>\n",
       "      <td>191700.0</td>\n",
       "      <td>14600000</td>\n",
       "      <td>360.0</td>\n",
       "      <td>0.0</td>\n",
       "      <td>0</td>\n",
       "    </tr>\n",
       "    <tr>\n",
       "      <th>456</th>\n",
       "      <td>1</td>\n",
       "      <td>1</td>\n",
       "      <td>1</td>\n",
       "      <td>0</td>\n",
       "      <td>0</td>\n",
       "      <td>0</td>\n",
       "      <td>430100</td>\n",
       "      <td>0.0</td>\n",
       "      <td>11800000</td>\n",
       "      <td>360.0</td>\n",
       "      <td>1.0</td>\n",
       "      <td>2</td>\n",
       "    </tr>\n",
       "    <tr>\n",
       "      <th>462</th>\n",
       "      <td>1</td>\n",
       "      <td>1</td>\n",
       "      <td>1</td>\n",
       "      <td>0</td>\n",
       "      <td>0</td>\n",
       "      <td>0</td>\n",
       "      <td>301500</td>\n",
       "      <td>218800.0</td>\n",
       "      <td>15300000</td>\n",
       "      <td>360.0</td>\n",
       "      <td>1.0</td>\n",
       "      <td>0</td>\n",
       "    </tr>\n",
       "  </tbody>\n",
       "</table>\n",
       "</div>"
      ],
      "text/plain": [
       "     Status  Gender  Married  Dependents  Education  Self_Employed  \\\n",
       "141       1       1        0           0          0              0   \n",
       "502       1       1        1           2          0              0   \n",
       "584       0       1        1           1          0              0   \n",
       "456       1       1        1           0          0              0   \n",
       "462       1       1        1           0          0              0   \n",
       "\n",
       "     Applicant_Income  Coapplicant_Income  Loan_Amount   Term  Credit_History  \\\n",
       "141            541700                 0.0     16800000  360.0             1.0   \n",
       "502            486500            562400.0     20800000  360.0             1.0   \n",
       "584            278700            191700.0     14600000  360.0             0.0   \n",
       "456            430100                 0.0     11800000  360.0             1.0   \n",
       "462            301500            218800.0     15300000  360.0             1.0   \n",
       "\n",
       "     Area  \n",
       "141     2  \n",
       "502     1  \n",
       "584     0  \n",
       "456     2  \n",
       "462     0  "
      ]
     },
     "execution_count": 121,
     "metadata": {},
     "output_type": "execute_result"
    }
   ],
   "source": [
    "validation_data.head()"
   ]
  },
  {
   "cell_type": "markdown",
   "id": "cb511b2a-ffd3-44e5-913d-196355044f46",
   "metadata": {},
   "source": [
    "# Initiating sagemaker xgboost and model creation"
   ]
  },
  {
   "cell_type": "code",
   "execution_count": 122,
   "id": "8c368331-e515-44eb-9d6a-45a31b8c0a2e",
   "metadata": {
    "tags": []
   },
   "outputs": [],
   "source": [
    "sess = sagemaker.Session()"
   ]
  },
  {
   "cell_type": "code",
   "execution_count": 123,
   "id": "249431f5-8249-4e25-a9a9-e30e8de3a667",
   "metadata": {
    "tags": []
   },
   "outputs": [],
   "source": [
    "role = get_execution_role()"
   ]
  },
  {
   "cell_type": "code",
   "execution_count": 124,
   "id": "d7f9d1d4-ac01-4cc5-8063-ac04b6c39f66",
   "metadata": {
    "tags": []
   },
   "outputs": [
    {
     "name": "stderr",
     "output_type": "stream",
     "text": [
      "INFO:sagemaker.image_uris:Ignoring unnecessary instance type: None.\n"
     ]
    }
   ],
   "source": [
    "xgboost_container = sagemaker.image_uris.retrieve(\"xgboost\", my_region, \"latest\")"
   ]
  },
  {
   "cell_type": "code",
   "execution_count": 125,
   "id": "a834acb4-7be9-407f-9915-2d5ad739bd2a",
   "metadata": {
    "tags": []
   },
   "outputs": [
    {
     "name": "stderr",
     "output_type": "stream",
     "text": [
      "WARNING:sagemaker.deprecations:train_instance_count has been renamed in sagemaker>=2.\n",
      "See: https://sagemaker.readthedocs.io/en/stable/v2.html for details.\n",
      "WARNING:sagemaker.deprecations:train_instance_type has been renamed in sagemaker>=2.\n",
      "See: https://sagemaker.readthedocs.io/en/stable/v2.html for details.\n"
     ]
    }
   ],
   "source": [
    "xgb = sagemaker.estimator.Estimator(xgboost_container,\n",
    "                                    role, \n",
    "                                    train_instance_count=1, \n",
    "                                    train_instance_type='ml.m4.xlarge',\n",
    "                                    output_path='s3://{}/{}/output'.format(bucket_name, prefix),\n",
    "                                    sagemaker_session=sess)"
   ]
  },
  {
   "cell_type": "code",
   "execution_count": 126,
   "id": "aa43c2be-8a43-47cf-83dc-a289b5f6574e",
   "metadata": {
    "tags": []
   },
   "outputs": [],
   "source": [
    "xgb.set_hyperparameters(max_depth=5,\n",
    "                        eta=0.2,\n",
    "                        gamma=4,\n",
    "                        min_child_weight=6,\n",
    "                        subsample=0.8,\n",
    "                        silent=0,\n",
    "                        objective='binary:logistic',\n",
    "                        num_round=100)"
   ]
  },
  {
   "cell_type": "markdown",
   "id": "f9d57433-5a0d-4c9e-8bfd-0bc6d4ca36fb",
   "metadata": {},
   "source": [
    "# Train the dataset"
   ]
  },
  {
   "cell_type": "code",
   "execution_count": 127,
   "id": "153defbc-1810-4c00-be80-85cdde8cce34",
   "metadata": {
    "tags": []
   },
   "outputs": [
    {
     "name": "stderr",
     "output_type": "stream",
     "text": [
      "INFO:sagemaker:Creating training-job with name: xgboost-2023-04-13-15-16-01-842\n"
     ]
    },
    {
     "name": "stdout",
     "output_type": "stream",
     "text": [
      "2023-04-13 15:16:02 Starting - Starting the training job...\n",
      "2023-04-13 15:16:28 Starting - Preparing the instances for training......\n",
      "2023-04-13 15:17:28 Downloading - Downloading input data...\n",
      "2023-04-13 15:17:53 Training - Downloading the training image.....\u001b[34mArguments: train\u001b[0m\n",
      "\u001b[34m[2023-04-13:15:18:44:INFO] Running standalone xgboost training.\u001b[0m\n",
      "\u001b[34m[2023-04-13:15:18:44:INFO] Path /opt/ml/input/data/validation does not exist!\u001b[0m\n",
      "\u001b[34m[2023-04-13:15:18:44:INFO] File size need to be processed in the node: 0.01mb. Available memory size in the node: 8610.31mb\u001b[0m\n",
      "\u001b[34m[2023-04-13:15:18:44:INFO] Determined delimiter of CSV input is ','\u001b[0m\n",
      "\u001b[34m[15:18:44] S3DistributionType set as FullyReplicated\u001b[0m\n",
      "\u001b[34m[15:18:44] 336x11 matrix with 3696 entries loaded from /opt/ml/input/data/train?format=csv&label_column=0&delimiter=,\u001b[0m\n",
      "\u001b[34m[15:18:44] src/tree/updater_prune.cc:74: tree pruning end, 1 roots, 2 extra nodes, 12 pruned nodes, max_depth=1\u001b[0m\n",
      "\u001b[34m[0]#011train-error:0.208333\u001b[0m\n",
      "\u001b[34m[15:18:44] src/tree/updater_prune.cc:74: tree pruning end, 1 roots, 4 extra nodes, 6 pruned nodes, max_depth=2\u001b[0m\n",
      "\u001b[34m[1]#011train-error:0.208333\u001b[0m\n",
      "\u001b[34m[15:18:44] src/tree/updater_prune.cc:74: tree pruning end, 1 roots, 4 extra nodes, 8 pruned nodes, max_depth=2\u001b[0m\n",
      "\u001b[34m[2]#011train-error:0.208333\u001b[0m\n",
      "\u001b[34m[15:18:44] src/tree/updater_prune.cc:74: tree pruning end, 1 roots, 2 extra nodes, 8 pruned nodes, max_depth=1\u001b[0m\n",
      "\u001b[34m[3]#011train-error:0.208333\u001b[0m\n",
      "\u001b[34m[15:18:44] src/tree/updater_prune.cc:74: tree pruning end, 1 roots, 2 extra nodes, 12 pruned nodes, max_depth=1\u001b[0m\n",
      "\u001b[34m[4]#011train-error:0.208333\u001b[0m\n",
      "\u001b[34m[15:18:44] src/tree/updater_prune.cc:74: tree pruning end, 1 roots, 2 extra nodes, 12 pruned nodes, max_depth=1\u001b[0m\n",
      "\u001b[34m[5]#011train-error:0.208333\u001b[0m\n",
      "\u001b[34m[15:18:44] src/tree/updater_prune.cc:74: tree pruning end, 1 roots, 6 extra nodes, 8 pruned nodes, max_depth=3\u001b[0m\n",
      "\u001b[34m[6]#011train-error:0.208333\u001b[0m\n",
      "\u001b[34m[15:18:44] src/tree/updater_prune.cc:74: tree pruning end, 1 roots, 6 extra nodes, 4 pruned nodes, max_depth=3\u001b[0m\n",
      "\u001b[34m[7]#011train-error:0.208333\u001b[0m\n",
      "\u001b[34m[15:18:44] src/tree/updater_prune.cc:74: tree pruning end, 1 roots, 0 extra nodes, 10 pruned nodes, max_depth=0\u001b[0m\n",
      "\u001b[34m[8]#011train-error:0.208333\u001b[0m\n",
      "\u001b[34m[15:18:44] src/tree/updater_prune.cc:74: tree pruning end, 1 roots, 2 extra nodes, 8 pruned nodes, max_depth=1\u001b[0m\n",
      "\u001b[34m[9]#011train-error:0.208333\u001b[0m\n",
      "\u001b[34m[15:18:44] src/tree/updater_prune.cc:74: tree pruning end, 1 roots, 6 extra nodes, 4 pruned nodes, max_depth=3\u001b[0m\n",
      "\u001b[34m[10]#011train-error:0.208333\u001b[0m\n",
      "\u001b[34m[15:18:44] src/tree/updater_prune.cc:74: tree pruning end, 1 roots, 4 extra nodes, 8 pruned nodes, max_depth=2\u001b[0m\n",
      "\u001b[34m[11]#011train-error:0.208333\u001b[0m\n",
      "\u001b[34m[15:18:44] src/tree/updater_prune.cc:74: tree pruning end, 1 roots, 6 extra nodes, 4 pruned nodes, max_depth=3\u001b[0m\n",
      "\u001b[34m[12]#011train-error:0.208333\u001b[0m\n",
      "\u001b[34m[15:18:44] src/tree/updater_prune.cc:74: tree pruning end, 1 roots, 8 extra nodes, 2 pruned nodes, max_depth=4\u001b[0m\n",
      "\u001b[34m[13]#011train-error:0.208333\u001b[0m\n",
      "\u001b[34m[15:18:44] src/tree/updater_prune.cc:74: tree pruning end, 1 roots, 4 extra nodes, 6 pruned nodes, max_depth=2\u001b[0m\n",
      "\u001b[34m[14]#011train-error:0.208333\u001b[0m\n",
      "\u001b[34m[15:18:44] src/tree/updater_prune.cc:74: tree pruning end, 1 roots, 0 extra nodes, 12 pruned nodes, max_depth=0\u001b[0m\n",
      "\u001b[34m[15]#011train-error:0.208333\u001b[0m\n",
      "\u001b[34m[15:18:44] src/tree/updater_prune.cc:74: tree pruning end, 1 roots, 6 extra nodes, 4 pruned nodes, max_depth=3\u001b[0m\n",
      "\u001b[34m[16]#011train-error:0.208333\u001b[0m\n",
      "\u001b[34m[15:18:44] src/tree/updater_prune.cc:74: tree pruning end, 1 roots, 0 extra nodes, 10 pruned nodes, max_depth=0\u001b[0m\n",
      "\u001b[34m[17]#011train-error:0.208333\u001b[0m\n",
      "\u001b[34m[15:18:44] src/tree/updater_prune.cc:74: tree pruning end, 1 roots, 2 extra nodes, 10 pruned nodes, max_depth=1\u001b[0m\n",
      "\u001b[34m[18]#011train-error:0.208333\u001b[0m\n",
      "\u001b[34m[15:18:44] src/tree/updater_prune.cc:74: tree pruning end, 1 roots, 0 extra nodes, 10 pruned nodes, max_depth=0\u001b[0m\n",
      "\u001b[34m[19]#011train-error:0.208333\u001b[0m\n",
      "\u001b[34m[15:18:44] src/tree/updater_prune.cc:74: tree pruning end, 1 roots, 2 extra nodes, 8 pruned nodes, max_depth=1\u001b[0m\n",
      "\u001b[34m[20]#011train-error:0.208333\u001b[0m\n",
      "\u001b[34m[15:18:44] src/tree/updater_prune.cc:74: tree pruning end, 1 roots, 0 extra nodes, 8 pruned nodes, max_depth=0\u001b[0m\n",
      "\u001b[34m[21]#011train-error:0.208333\u001b[0m\n",
      "\u001b[34m[15:18:44] src/tree/updater_prune.cc:74: tree pruning end, 1 roots, 0 extra nodes, 10 pruned nodes, max_depth=0\u001b[0m\n",
      "\u001b[34m[22]#011train-error:0.208333\u001b[0m\n",
      "\u001b[34m[15:18:44] src/tree/updater_prune.cc:74: tree pruning end, 1 roots, 0 extra nodes, 10 pruned nodes, max_depth=0\u001b[0m\n",
      "\u001b[34m[23]#011train-error:0.208333\u001b[0m\n",
      "\u001b[34m[15:18:44] src/tree/updater_prune.cc:74: tree pruning end, 1 roots, 0 extra nodes, 8 pruned nodes, max_depth=0\u001b[0m\n",
      "\u001b[34m[24]#011train-error:0.208333\u001b[0m\n",
      "\u001b[34m[15:18:44] src/tree/updater_prune.cc:74: tree pruning end, 1 roots, 4 extra nodes, 6 pruned nodes, max_depth=2\u001b[0m\n",
      "\u001b[34m[25]#011train-error:0.208333\u001b[0m\n",
      "\u001b[34m[15:18:44] src/tree/updater_prune.cc:74: tree pruning end, 1 roots, 0 extra nodes, 10 pruned nodes, max_depth=0\u001b[0m\n",
      "\u001b[34m[26]#011train-error:0.208333\u001b[0m\n",
      "\u001b[34m[15:18:44] src/tree/updater_prune.cc:74: tree pruning end, 1 roots, 0 extra nodes, 8 pruned nodes, max_depth=0\u001b[0m\n",
      "\u001b[34m[27]#011train-error:0.208333\u001b[0m\n",
      "\u001b[34m[15:18:44] src/tree/updater_prune.cc:74: tree pruning end, 1 roots, 0 extra nodes, 8 pruned nodes, max_depth=0\u001b[0m\n",
      "\u001b[34m[28]#011train-error:0.208333\u001b[0m\n",
      "\u001b[34m[15:18:44] src/tree/updater_prune.cc:74: tree pruning end, 1 roots, 0 extra nodes, 8 pruned nodes, max_depth=0\u001b[0m\n",
      "\u001b[34m[29]#011train-error:0.208333\u001b[0m\n",
      "\u001b[34m[15:18:44] src/tree/updater_prune.cc:74: tree pruning end, 1 roots, 0 extra nodes, 8 pruned nodes, max_depth=0\u001b[0m\n",
      "\u001b[34m[30]#011train-error:0.208333\u001b[0m\n",
      "\u001b[34m[15:18:44] src/tree/updater_prune.cc:74: tree pruning end, 1 roots, 4 extra nodes, 8 pruned nodes, max_depth=2\u001b[0m\n",
      "\u001b[34m[31]#011train-error:0.208333\u001b[0m\n",
      "\u001b[34m[15:18:44] src/tree/updater_prune.cc:74: tree pruning end, 1 roots, 0 extra nodes, 8 pruned nodes, max_depth=0\u001b[0m\n",
      "\u001b[34m[32]#011train-error:0.208333\u001b[0m\n",
      "\u001b[34m[15:18:44] src/tree/updater_prune.cc:74: tree pruning end, 1 roots, 6 extra nodes, 2 pruned nodes, max_depth=3\u001b[0m\n",
      "\u001b[34m[33]#011train-error:0.208333\u001b[0m\n",
      "\u001b[34m[15:18:44] src/tree/updater_prune.cc:74: tree pruning end, 1 roots, 0 extra nodes, 10 pruned nodes, max_depth=0\u001b[0m\n",
      "\u001b[34m[34]#011train-error:0.208333\u001b[0m\n",
      "\u001b[34m[15:18:44] src/tree/updater_prune.cc:74: tree pruning end, 1 roots, 0 extra nodes, 8 pruned nodes, max_depth=0\u001b[0m\n",
      "\u001b[34m[35]#011train-error:0.208333\u001b[0m\n",
      "\u001b[34m[15:18:44] src/tree/updater_prune.cc:74: tree pruning end, 1 roots, 0 extra nodes, 8 pruned nodes, max_depth=0\u001b[0m\n",
      "\u001b[34m[36]#011train-error:0.208333\u001b[0m\n",
      "\u001b[34m[15:18:44] src/tree/updater_prune.cc:74: tree pruning end, 1 roots, 0 extra nodes, 10 pruned nodes, max_depth=0\u001b[0m\n",
      "\u001b[34m[37]#011train-error:0.208333\u001b[0m\n",
      "\u001b[34m[15:18:44] src/tree/updater_prune.cc:74: tree pruning end, 1 roots, 0 extra nodes, 10 pruned nodes, max_depth=0\u001b[0m\n",
      "\u001b[34m[38]#011train-error:0.208333\u001b[0m\n",
      "\u001b[34m[15:18:44] src/tree/updater_prune.cc:74: tree pruning end, 1 roots, 0 extra nodes, 8 pruned nodes, max_depth=0\u001b[0m\n",
      "\u001b[34m[39]#011train-error:0.208333\u001b[0m\n",
      "\u001b[34m[15:18:44] src/tree/updater_prune.cc:74: tree pruning end, 1 roots, 0 extra nodes, 10 pruned nodes, max_depth=0\u001b[0m\n",
      "\u001b[34m[40]#011train-error:0.208333\u001b[0m\n",
      "\u001b[34m[15:18:44] src/tree/updater_prune.cc:74: tree pruning end, 1 roots, 0 extra nodes, 10 pruned nodes, max_depth=0\u001b[0m\n",
      "\u001b[34m[41]#011train-error:0.208333\u001b[0m\n",
      "\u001b[34m[15:18:44] src/tree/updater_prune.cc:74: tree pruning end, 1 roots, 0 extra nodes, 10 pruned nodes, max_depth=0\u001b[0m\n",
      "\u001b[34m[42]#011train-error:0.208333\u001b[0m\n",
      "\u001b[34m[15:18:44] src/tree/updater_prune.cc:74: tree pruning end, 1 roots, 0 extra nodes, 10 pruned nodes, max_depth=0\u001b[0m\n",
      "\u001b[34m[43]#011train-error:0.208333\u001b[0m\n",
      "\u001b[34m[15:18:44] src/tree/updater_prune.cc:74: tree pruning end, 1 roots, 0 extra nodes, 10 pruned nodes, max_depth=0\u001b[0m\n",
      "\u001b[34m[44]#011train-error:0.208333\u001b[0m\n",
      "\u001b[34m[15:18:44] src/tree/updater_prune.cc:74: tree pruning end, 1 roots, 0 extra nodes, 10 pruned nodes, max_depth=0\u001b[0m\n",
      "\u001b[34m[45]#011train-error:0.208333\u001b[0m\n",
      "\u001b[34m[15:18:44] src/tree/updater_prune.cc:74: tree pruning end, 1 roots, 0 extra nodes, 10 pruned nodes, max_depth=0\u001b[0m\n",
      "\u001b[34m[46]#011train-error:0.208333\u001b[0m\n",
      "\u001b[34m[15:18:44] src/tree/updater_prune.cc:74: tree pruning end, 1 roots, 0 extra nodes, 8 pruned nodes, max_depth=0\u001b[0m\n",
      "\u001b[34m[47]#011train-error:0.208333\u001b[0m\n",
      "\u001b[34m[15:18:44] src/tree/updater_prune.cc:74: tree pruning end, 1 roots, 0 extra nodes, 10 pruned nodes, max_depth=0\u001b[0m\n",
      "\u001b[34m[48]#011train-error:0.208333\u001b[0m\n",
      "\u001b[34m[15:18:44] src/tree/updater_prune.cc:74: tree pruning end, 1 roots, 4 extra nodes, 6 pruned nodes, max_depth=2\u001b[0m\n",
      "\u001b[34m[49]#011train-error:0.208333\u001b[0m\n",
      "\u001b[34m[15:18:44] src/tree/updater_prune.cc:74: tree pruning end, 1 roots, 0 extra nodes, 10 pruned nodes, max_depth=0\u001b[0m\n",
      "\u001b[34m[50]#011train-error:0.208333\u001b[0m\n",
      "\u001b[34m[15:18:44] src/tree/updater_prune.cc:74: tree pruning end, 1 roots, 0 extra nodes, 10 pruned nodes, max_depth=0\u001b[0m\n",
      "\u001b[34m[51]#011train-error:0.208333\u001b[0m\n",
      "\u001b[34m[15:18:44] src/tree/updater_prune.cc:74: tree pruning end, 1 roots, 0 extra nodes, 8 pruned nodes, max_depth=0\u001b[0m\n",
      "\u001b[34m[52]#011train-error:0.208333\u001b[0m\n",
      "\u001b[34m[15:18:44] src/tree/updater_prune.cc:74: tree pruning end, 1 roots, 0 extra nodes, 12 pruned nodes, max_depth=0\u001b[0m\n",
      "\u001b[34m[53]#011train-error:0.208333\u001b[0m\n",
      "\u001b[34m[15:18:44] src/tree/updater_prune.cc:74: tree pruning end, 1 roots, 0 extra nodes, 10 pruned nodes, max_depth=0\u001b[0m\n",
      "\u001b[34m[54]#011train-error:0.208333\u001b[0m\n",
      "\u001b[34m[15:18:44] src/tree/updater_prune.cc:74: tree pruning end, 1 roots, 0 extra nodes, 10 pruned nodes, max_depth=0\u001b[0m\n",
      "\u001b[34m[55]#011train-error:0.208333\u001b[0m\n",
      "\u001b[34m[15:18:44] src/tree/updater_prune.cc:74: tree pruning end, 1 roots, 0 extra nodes, 10 pruned nodes, max_depth=0\u001b[0m\n",
      "\u001b[34m[56]#011train-error:0.208333\u001b[0m\n",
      "\u001b[34m[15:18:44] src/tree/updater_prune.cc:74: tree pruning end, 1 roots, 0 extra nodes, 10 pruned nodes, max_depth=0\u001b[0m\n",
      "\u001b[34m[57]#011train-error:0.208333\u001b[0m\n",
      "\u001b[34m[15:18:44] src/tree/updater_prune.cc:74: tree pruning end, 1 roots, 0 extra nodes, 8 pruned nodes, max_depth=0\u001b[0m\n",
      "\u001b[34m[58]#011train-error:0.208333\u001b[0m\n",
      "\u001b[34m[15:18:44] src/tree/updater_prune.cc:74: tree pruning end, 1 roots, 6 extra nodes, 4 pruned nodes, max_depth=3\u001b[0m\n",
      "\u001b[34m[59]#011train-error:0.208333\u001b[0m\n",
      "\u001b[34m[15:18:44] src/tree/updater_prune.cc:74: tree pruning end, 1 roots, 0 extra nodes, 8 pruned nodes, max_depth=0\u001b[0m\n",
      "\u001b[34m[60]#011train-error:0.208333\u001b[0m\n",
      "\u001b[34m[15:18:44] src/tree/updater_prune.cc:74: tree pruning end, 1 roots, 0 extra nodes, 10 pruned nodes, max_depth=0\u001b[0m\n",
      "\u001b[34m[61]#011train-error:0.205357\u001b[0m\n",
      "\u001b[34m[15:18:44] src/tree/updater_prune.cc:74: tree pruning end, 1 roots, 0 extra nodes, 10 pruned nodes, max_depth=0\u001b[0m\n",
      "\u001b[34m[62]#011train-error:0.205357\u001b[0m\n",
      "\u001b[34m[15:18:44] src/tree/updater_prune.cc:74: tree pruning end, 1 roots, 0 extra nodes, 10 pruned nodes, max_depth=0\u001b[0m\n",
      "\u001b[34m[63]#011train-error:0.205357\u001b[0m\n",
      "\u001b[34m[15:18:44] src/tree/updater_prune.cc:74: tree pruning end, 1 roots, 0 extra nodes, 10 pruned nodes, max_depth=0\u001b[0m\n",
      "\u001b[34m[64]#011train-error:0.205357\u001b[0m\n",
      "\u001b[34m[15:18:44] src/tree/updater_prune.cc:74: tree pruning end, 1 roots, 0 extra nodes, 10 pruned nodes, max_depth=0\u001b[0m\n",
      "\u001b[34m[65]#011train-error:0.205357\u001b[0m\n",
      "\u001b[34m[15:18:44] src/tree/updater_prune.cc:74: tree pruning end, 1 roots, 0 extra nodes, 10 pruned nodes, max_depth=0\u001b[0m\n",
      "\u001b[34m[66]#011train-error:0.205357\u001b[0m\n",
      "\u001b[34m[15:18:44] src/tree/updater_prune.cc:74: tree pruning end, 1 roots, 0 extra nodes, 8 pruned nodes, max_depth=0\u001b[0m\n",
      "\u001b[34m[67]#011train-error:0.205357\u001b[0m\n",
      "\u001b[34m[15:18:44] src/tree/updater_prune.cc:74: tree pruning end, 1 roots, 0 extra nodes, 8 pruned nodes, max_depth=0\u001b[0m\n",
      "\u001b[34m[68]#011train-error:0.205357\u001b[0m\n",
      "\u001b[34m[15:18:44] src/tree/updater_prune.cc:74: tree pruning end, 1 roots, 0 extra nodes, 8 pruned nodes, max_depth=0\u001b[0m\n",
      "\u001b[34m[69]#011train-error:0.205357\u001b[0m\n",
      "\u001b[34m[15:18:44] src/tree/updater_prune.cc:74: tree pruning end, 1 roots, 8 extra nodes, 2 pruned nodes, max_depth=4\u001b[0m\n",
      "\u001b[34m[70]#011train-error:0.202381\u001b[0m\n",
      "\u001b[34m[15:18:44] src/tree/updater_prune.cc:74: tree pruning end, 1 roots, 0 extra nodes, 8 pruned nodes, max_depth=0\u001b[0m\n",
      "\u001b[34m[71]#011train-error:0.202381\u001b[0m\n",
      "\u001b[34m[15:18:44] src/tree/updater_prune.cc:74: tree pruning end, 1 roots, 0 extra nodes, 10 pruned nodes, max_depth=0\u001b[0m\n",
      "\u001b[34m[72]#011train-error:0.199405\u001b[0m\n",
      "\u001b[34m[15:18:44] src/tree/updater_prune.cc:74: tree pruning end, 1 roots, 0 extra nodes, 10 pruned nodes, max_depth=0\u001b[0m\n",
      "\u001b[34m[73]#011train-error:0.199405\u001b[0m\n",
      "\u001b[34m[15:18:44] src/tree/updater_prune.cc:74: tree pruning end, 1 roots, 0 extra nodes, 10 pruned nodes, max_depth=0\u001b[0m\n",
      "\u001b[34m[74]#011train-error:0.199405\u001b[0m\n",
      "\u001b[34m[15:18:44] src/tree/updater_prune.cc:74: tree pruning end, 1 roots, 0 extra nodes, 8 pruned nodes, max_depth=0\u001b[0m\n",
      "\u001b[34m[75]#011train-error:0.199405\u001b[0m\n",
      "\u001b[34m[15:18:44] src/tree/updater_prune.cc:74: tree pruning end, 1 roots, 0 extra nodes, 8 pruned nodes, max_depth=0\u001b[0m\n",
      "\u001b[34m[76]#011train-error:0.196429\u001b[0m\n",
      "\u001b[34m[15:18:44] src/tree/updater_prune.cc:74: tree pruning end, 1 roots, 0 extra nodes, 8 pruned nodes, max_depth=0\u001b[0m\n",
      "\u001b[34m[77]#011train-error:0.199405\u001b[0m\n",
      "\u001b[34m[15:18:44] src/tree/updater_prune.cc:74: tree pruning end, 1 roots, 0 extra nodes, 10 pruned nodes, max_depth=0\u001b[0m\n",
      "\u001b[34m[78]#011train-error:0.196429\u001b[0m\n",
      "\u001b[34m[15:18:44] src/tree/updater_prune.cc:74: tree pruning end, 1 roots, 0 extra nodes, 8 pruned nodes, max_depth=0\u001b[0m\n",
      "\u001b[34m[79]#011train-error:0.196429\u001b[0m\n",
      "\u001b[34m[15:18:44] src/tree/updater_prune.cc:74: tree pruning end, 1 roots, 0 extra nodes, 10 pruned nodes, max_depth=0\u001b[0m\n",
      "\u001b[34m[80]#011train-error:0.196429\u001b[0m\n",
      "\u001b[34m[15:18:44] src/tree/updater_prune.cc:74: tree pruning end, 1 roots, 0 extra nodes, 10 pruned nodes, max_depth=0\u001b[0m\n",
      "\u001b[34m[81]#011train-error:0.196429\u001b[0m\n",
      "\u001b[34m[15:18:44] src/tree/updater_prune.cc:74: tree pruning end, 1 roots, 0 extra nodes, 12 pruned nodes, max_depth=0\u001b[0m\n",
      "\u001b[34m[82]#011train-error:0.202381\u001b[0m\n",
      "\u001b[34m[15:18:44] src/tree/updater_prune.cc:74: tree pruning end, 1 roots, 0 extra nodes, 8 pruned nodes, max_depth=0\u001b[0m\n",
      "\u001b[34m[83]#011train-error:0.199405\u001b[0m\n",
      "\u001b[34m[15:18:44] src/tree/updater_prune.cc:74: tree pruning end, 1 roots, 0 extra nodes, 8 pruned nodes, max_depth=0\u001b[0m\n",
      "\u001b[34m[84]#011train-error:0.199405\u001b[0m\n",
      "\u001b[34m[15:18:44] src/tree/updater_prune.cc:74: tree pruning end, 1 roots, 0 extra nodes, 10 pruned nodes, max_depth=0\u001b[0m\n",
      "\u001b[34m[85]#011train-error:0.199405\u001b[0m\n",
      "\u001b[34m[15:18:44] src/tree/updater_prune.cc:74: tree pruning end, 1 roots, 0 extra nodes, 8 pruned nodes, max_depth=0\u001b[0m\n",
      "\u001b[34m[86]#011train-error:0.199405\u001b[0m\n",
      "\u001b[34m[15:18:44] src/tree/updater_prune.cc:74: tree pruning end, 1 roots, 0 extra nodes, 10 pruned nodes, max_depth=0\u001b[0m\n",
      "\u001b[34m[87]#011train-error:0.199405\u001b[0m\n",
      "\u001b[34m[15:18:44] src/tree/updater_prune.cc:74: tree pruning end, 1 roots, 0 extra nodes, 8 pruned nodes, max_depth=0\u001b[0m\n",
      "\u001b[34m[88]#011train-error:0.199405\u001b[0m\n",
      "\u001b[34m[15:18:44] src/tree/updater_prune.cc:74: tree pruning end, 1 roots, 0 extra nodes, 10 pruned nodes, max_depth=0\u001b[0m\n",
      "\u001b[34m[89]#011train-error:0.199405\u001b[0m\n",
      "\u001b[34m[15:18:44] src/tree/updater_prune.cc:74: tree pruning end, 1 roots, 0 extra nodes, 8 pruned nodes, max_depth=0\u001b[0m\n",
      "\u001b[34m[90]#011train-error:0.199405\u001b[0m\n",
      "\u001b[34m[15:18:44] src/tree/updater_prune.cc:74: tree pruning end, 1 roots, 0 extra nodes, 10 pruned nodes, max_depth=0\u001b[0m\n",
      "\u001b[34m[91]#011train-error:0.202381\u001b[0m\n",
      "\u001b[34m[15:18:44] src/tree/updater_prune.cc:74: tree pruning end, 1 roots, 0 extra nodes, 10 pruned nodes, max_depth=0\u001b[0m\n",
      "\u001b[34m[92]#011train-error:0.202381\u001b[0m\n",
      "\u001b[34m[15:18:44] src/tree/updater_prune.cc:74: tree pruning end, 1 roots, 0 extra nodes, 10 pruned nodes, max_depth=0\u001b[0m\n",
      "\u001b[34m[93]#011train-error:0.199405\u001b[0m\n",
      "\u001b[34m[15:18:44] src/tree/updater_prune.cc:74: tree pruning end, 1 roots, 0 extra nodes, 10 pruned nodes, max_depth=0\u001b[0m\n",
      "\u001b[34m[94]#011train-error:0.199405\u001b[0m\n",
      "\u001b[34m[15:18:44] src/tree/updater_prune.cc:74: tree pruning end, 1 roots, 0 extra nodes, 8 pruned nodes, max_depth=0\u001b[0m\n",
      "\u001b[34m[95]#011train-error:0.199405\u001b[0m\n",
      "\u001b[34m[15:18:44] src/tree/updater_prune.cc:74: tree pruning end, 1 roots, 0 extra nodes, 10 pruned nodes, max_depth=0\u001b[0m\n",
      "\u001b[34m[96]#011train-error:0.199405\u001b[0m\n",
      "\u001b[34m[15:18:44] src/tree/updater_prune.cc:74: tree pruning end, 1 roots, 0 extra nodes, 10 pruned nodes, max_depth=0\u001b[0m\n",
      "\u001b[34m[97]#011train-error:0.199405\u001b[0m\n",
      "\u001b[34m[15:18:44] src/tree/updater_prune.cc:74: tree pruning end, 1 roots, 0 extra nodes, 10 pruned nodes, max_depth=0\u001b[0m\n",
      "\u001b[34m[98]#011train-error:0.199405\u001b[0m\n",
      "\u001b[34m[15:18:44] src/tree/updater_prune.cc:74: tree pruning end, 1 roots, 0 extra nodes, 8 pruned nodes, max_depth=0\u001b[0m\n",
      "\u001b[34m[99]#011train-error:0.199405\u001b[0m\n",
      "\n",
      "2023-04-13 15:19:01 Uploading - Uploading generated training model\n",
      "2023-04-13 15:19:01 Completed - Training job completed\n",
      "Training seconds: 92\n",
      "Billable seconds: 92\n"
     ]
    }
   ],
   "source": [
    "xgb.fit({'train': s3_input_train})"
   ]
  },
  {
   "cell_type": "code",
   "execution_count": 128,
   "id": "8a4620ac-b73d-422d-a30c-3f75312f24ea",
   "metadata": {
    "tags": []
   },
   "outputs": [],
   "source": [
    "objective_metric_name = \"validation:auc\"\n",
    "MAX_JOBS = 5\n",
    "MAX_PARALLEL_JOBS = 4\n",
    "STRATEGY = 'Bayesian'\n",
    "SCALING_TYPE = 'Linear'"
   ]
  },
  {
   "cell_type": "code",
   "execution_count": 129,
   "id": "bd489d1f-6e88-4be8-957a-b33f12071545",
   "metadata": {
    "tags": []
   },
   "outputs": [
    {
     "name": "stderr",
     "output_type": "stream",
     "text": [
      "INFO:sagemaker:Creating hyperparameter tuning job with name: xgb-linsearch-20230413-15-19-23\n"
     ]
    },
    {
     "name": "stdout",
     "output_type": "stream",
     "text": [
      "..................................................................!\n"
     ]
    }
   ],
   "source": [
    "tuninig_job_name = \"xgb-linsearch-\" + strftime(\"%Y%m%d-%H-%M-%S\", gmtime())\n",
    "\n",
    "hyperparameter_ranges_linear = {\n",
    "    \"alpha\": ContinuousParameter(0.05, 1, scaling_type=SCALING_TYPE),\n",
    "    \"lambda\": ContinuousParameter(0.05, 1, scaling_type=SCALING_TYPE),\n",
    "}\n",
    "\n",
    "tuner_linear = HyperparameterTuner(\n",
    "    xgb,\n",
    "    objective_metric_name,\n",
    "    hyperparameter_ranges_linear,\n",
    "    max_jobs=MAX_JOBS,\n",
    "    max_parallel_jobs=MAX_PARALLEL_JOBS,\n",
    "    strategy=STRATEGY,\n",
    ")\n",
    "\n",
    "tuner_linear.fit(\n",
    "    {\"train\": s3_input_train, \"validation\": s3_input_validation},\n",
    "    include_cls_metadata=False,\n",
    "    job_name=tuninig_job_name)"
   ]
  },
  {
   "cell_type": "code",
   "execution_count": 130,
   "id": "c84100b8-9002-4581-bf19-51257ef68f92",
   "metadata": {
    "tags": []
   },
   "outputs": [
    {
     "data": {
      "text/plain": [
       "'Completed'"
      ]
     },
     "execution_count": 130,
     "metadata": {},
     "output_type": "execute_result"
    }
   ],
   "source": [
    "boto3.client(\"sagemaker\").describe_hyper_parameter_tuning_job(\n",
    "    HyperParameterTuningJobName=tuner_linear.latest_tuning_job.job_name\n",
    ")[\"HyperParameterTuningJobStatus\"]"
   ]
  },
  {
   "cell_type": "code",
   "execution_count": 131,
   "id": "e197e717-66f3-4ff7-8da1-68017876beb0",
   "metadata": {
    "tags": []
   },
   "outputs": [
    {
     "name": "stdout",
     "output_type": "stream",
     "text": [
      "Number of training jobs with valid objective: 5\n",
      "{'lowest': 0.7246379852294922, 'highest': 0.7842190265655518}\n"
     ]
    },
    {
     "data": {
      "text/html": [
       "<div>\n",
       "<style scoped>\n",
       "    .dataframe tbody tr th:only-of-type {\n",
       "        vertical-align: middle;\n",
       "    }\n",
       "\n",
       "    .dataframe tbody tr th {\n",
       "        vertical-align: top;\n",
       "    }\n",
       "\n",
       "    .dataframe thead th {\n",
       "        text-align: right;\n",
       "    }\n",
       "</style>\n",
       "<table border=\"1\" class=\"dataframe\">\n",
       "  <thead>\n",
       "    <tr style=\"text-align: right;\">\n",
       "      <th></th>\n",
       "      <th>alpha</th>\n",
       "      <th>lambda</th>\n",
       "      <th>TrainingJobName</th>\n",
       "      <th>TrainingJobStatus</th>\n",
       "      <th>FinalObjectiveValue</th>\n",
       "      <th>TrainingStartTime</th>\n",
       "      <th>TrainingEndTime</th>\n",
       "      <th>TrainingElapsedTimeSeconds</th>\n",
       "    </tr>\n",
       "  </thead>\n",
       "  <tbody>\n",
       "    <tr>\n",
       "      <th>2</th>\n",
       "      <td>0.555397</td>\n",
       "      <td>0.795821</td>\n",
       "      <td>xgb-linsearch-20230413-15-19-23-003-38107cc6</td>\n",
       "      <td>Completed</td>\n",
       "      <td>0.784219</td>\n",
       "      <td>2023-04-13 15:21:19+00:00</td>\n",
       "      <td>2023-04-13 15:23:16+00:00</td>\n",
       "      <td>117.0</td>\n",
       "    </tr>\n",
       "    <tr>\n",
       "      <th>1</th>\n",
       "      <td>0.846494</td>\n",
       "      <td>0.278512</td>\n",
       "      <td>xgb-linsearch-20230413-15-19-23-004-68bf6972</td>\n",
       "      <td>Completed</td>\n",
       "      <td>0.747182</td>\n",
       "      <td>2023-04-13 15:21:31+00:00</td>\n",
       "      <td>2023-04-13 15:23:17+00:00</td>\n",
       "      <td>106.0</td>\n",
       "    </tr>\n",
       "    <tr>\n",
       "      <th>4</th>\n",
       "      <td>0.252974</td>\n",
       "      <td>0.462469</td>\n",
       "      <td>xgb-linsearch-20230413-15-19-23-001-cc8b16ff</td>\n",
       "      <td>Completed</td>\n",
       "      <td>0.747182</td>\n",
       "      <td>2023-04-13 15:21:17+00:00</td>\n",
       "      <td>2023-04-13 15:22:59+00:00</td>\n",
       "      <td>102.0</td>\n",
       "    </tr>\n",
       "    <tr>\n",
       "      <th>0</th>\n",
       "      <td>0.316903</td>\n",
       "      <td>0.238946</td>\n",
       "      <td>xgb-linsearch-20230413-15-19-23-005-8f7ec569</td>\n",
       "      <td>Completed</td>\n",
       "      <td>0.741278</td>\n",
       "      <td>2023-04-13 15:23:27+00:00</td>\n",
       "      <td>2023-04-13 15:24:46+00:00</td>\n",
       "      <td>79.0</td>\n",
       "    </tr>\n",
       "    <tr>\n",
       "      <th>3</th>\n",
       "      <td>0.366163</td>\n",
       "      <td>0.078629</td>\n",
       "      <td>xgb-linsearch-20230413-15-19-23-002-edb714bd</td>\n",
       "      <td>Completed</td>\n",
       "      <td>0.724638</td>\n",
       "      <td>2023-04-13 15:21:19+00:00</td>\n",
       "      <td>2023-04-13 15:22:52+00:00</td>\n",
       "      <td>93.0</td>\n",
       "    </tr>\n",
       "  </tbody>\n",
       "</table>\n",
       "</div>"
      ],
      "text/plain": [
       "      alpha    lambda                               TrainingJobName  \\\n",
       "2  0.555397  0.795821  xgb-linsearch-20230413-15-19-23-003-38107cc6   \n",
       "1  0.846494  0.278512  xgb-linsearch-20230413-15-19-23-004-68bf6972   \n",
       "4  0.252974  0.462469  xgb-linsearch-20230413-15-19-23-001-cc8b16ff   \n",
       "0  0.316903  0.238946  xgb-linsearch-20230413-15-19-23-005-8f7ec569   \n",
       "3  0.366163  0.078629  xgb-linsearch-20230413-15-19-23-002-edb714bd   \n",
       "\n",
       "  TrainingJobStatus  FinalObjectiveValue         TrainingStartTime  \\\n",
       "2         Completed             0.784219 2023-04-13 15:21:19+00:00   \n",
       "1         Completed             0.747182 2023-04-13 15:21:31+00:00   \n",
       "4         Completed             0.747182 2023-04-13 15:21:17+00:00   \n",
       "0         Completed             0.741278 2023-04-13 15:23:27+00:00   \n",
       "3         Completed             0.724638 2023-04-13 15:21:19+00:00   \n",
       "\n",
       "            TrainingEndTime  TrainingElapsedTimeSeconds  \n",
       "2 2023-04-13 15:23:16+00:00                       117.0  \n",
       "1 2023-04-13 15:23:17+00:00                       106.0  \n",
       "4 2023-04-13 15:22:59+00:00                       102.0  \n",
       "0 2023-04-13 15:24:46+00:00                        79.0  \n",
       "3 2023-04-13 15:22:52+00:00                        93.0  "
      ]
     },
     "execution_count": 131,
     "metadata": {},
     "output_type": "execute_result"
    }
   ],
   "source": [
    "tuner = sagemaker.HyperparameterTuningJobAnalytics(tuninig_job_name)\n",
    "\n",
    "full_df = tuner.dataframe()\n",
    "\n",
    "if len(full_df) > 0:\n",
    "    df = full_df[full_df[\"FinalObjectiveValue\"] > -float(\"inf\")]\n",
    "    if len(df) > 0:\n",
    "        df = df.sort_values(\"FinalObjectiveValue\", ascending=False)\n",
    "        print(\"Number of training jobs with valid objective: %d\" % len(df))\n",
    "        print({\"lowest\": min(df[\"FinalObjectiveValue\"]), \"highest\": max(df[\"FinalObjectiveValue\"])})\n",
    "        pd.set_option(\"display.max_colwidth\", None)  # Don't truncate TrainingJobName\n",
    "    else:\n",
    "        print(\"No training jobs have reported valid results yet.\")\n",
    "\n",
    "df"
   ]
  },
  {
   "cell_type": "markdown",
   "id": "7c95ccc4-0ac5-4f41-9d6e-08ae0c7e2931",
   "metadata": {
    "tags": []
   },
   "source": [
    "# Deploy the model and creating endpoint"
   ]
  },
  {
   "cell_type": "code",
   "execution_count": 133,
   "id": "ba07ff4c-ef0e-4996-abdf-9609ee58fb0d",
   "metadata": {
    "tags": []
   },
   "outputs": [
    {
     "name": "stderr",
     "output_type": "stream",
     "text": [
      "INFO:sagemaker:Creating model with name: xgboost-2023-04-13-15-25-19-248\n",
      "INFO:sagemaker:Creating endpoint-config with name xgboost-2023-04-13-15-25-19-248\n",
      "INFO:sagemaker:Creating endpoint with name xgboost-2023-04-13-15-25-19-248\n"
     ]
    },
    {
     "name": "stdout",
     "output_type": "stream",
     "text": [
      "-------!"
     ]
    }
   ],
   "source": [
    "xgb_predictor = xgb.deploy(initial_instance_count=1, instance_type='ml.m4.xlarge')"
   ]
  },
  {
   "cell_type": "code",
   "execution_count": 134,
   "id": "5ddaf605-76aa-4e98-a144-42ce314b6d76",
   "metadata": {
    "tags": []
   },
   "outputs": [],
   "source": [
    "test_data_array = test_data.drop(['Status'], axis=1).values"
   ]
  },
  {
   "cell_type": "code",
   "execution_count": 135,
   "id": "0109e315-b66f-423f-99af-8a7e70483690",
   "metadata": {
    "tags": []
   },
   "outputs": [],
   "source": [
    "xgb_predictor.serializer = csv_serializer"
   ]
  },
  {
   "cell_type": "code",
   "execution_count": 136,
   "id": "1f3a9266-25a5-4a1f-be23-a223e78060f2",
   "metadata": {
    "tags": []
   },
   "outputs": [
    {
     "name": "stderr",
     "output_type": "stream",
     "text": [
      "WARNING:sagemaker.deprecations:The csv_serializer has been renamed in sagemaker>=2.\n",
      "See: https://sagemaker.readthedocs.io/en/stable/v2.html for details.\n"
     ]
    },
    {
     "name": "stdout",
     "output_type": "stream",
     "text": [
      "(49,)\n"
     ]
    }
   ],
   "source": [
    "predictions = xgb_predictor.predict(test_data_array).decode('utf-8')\n",
    "predictions_array = np.fromstring(predictions[1:], sep=',')\n",
    "print(predictions_array.shape)"
   ]
  },
  {
   "cell_type": "code",
   "execution_count": 137,
   "id": "60af0e22-6e23-46f1-baf5-990d43455466",
   "metadata": {
    "tags": []
   },
   "outputs": [
    {
     "data": {
      "text/plain": [
       "array([0.76343787, 0.46597332, 0.70553535, 0.83843571, 0.82133377,\n",
       "       0.90497601, 0.72584224, 0.23788796, 0.78886515, 0.65653336,\n",
       "       0.72160769, 0.76274806, 0.79909384, 0.74878019, 0.69548339,\n",
       "       0.87321091, 0.87321091, 0.19923036, 0.78186738, 0.83322304,\n",
       "       0.17902289, 0.19555779, 0.81155813, 0.23835607, 0.88869292,\n",
       "       0.85579586, 0.87321091, 0.14648503, 0.69306409, 0.19666469,\n",
       "       0.87843382, 0.81664765, 0.82935792, 0.71457011, 0.55616462,\n",
       "       0.8456676 , 0.817568  , 0.80307311, 0.92997241, 0.71048701,\n",
       "       0.58344918, 0.79251015, 0.82907891, 0.64178544, 0.90586245,\n",
       "       0.13079849, 0.20029396, 0.66306961, 0.82758921])"
      ]
     },
     "execution_count": 137,
     "metadata": {},
     "output_type": "execute_result"
    }
   ],
   "source": [
    "predictions_array"
   ]
  },
  {
   "cell_type": "code",
   "execution_count": 138,
   "id": "4993b8cb-43be-495a-a24b-439fb52fd8a2",
   "metadata": {
    "tags": []
   },
   "outputs": [
    {
     "name": "stdout",
     "output_type": "stream",
     "text": [
      "              precision    recall  f1-score   support\n",
      "\n",
      "     approve       0.90      0.56      0.69        16\n",
      "        deny       0.82      0.97      0.89        33\n",
      "\n",
      "    accuracy                           0.84        49\n",
      "   macro avg       0.86      0.77      0.79        49\n",
      "weighted avg       0.85      0.84      0.82        49\n",
      "\n"
     ]
    }
   ],
   "source": [
    "from sklearn.metrics import classification_report\n",
    "print(classification_report(test_data['Status'], np.round(predictions_array), target_names=['approve', 'deny']))"
   ]
  },
  {
   "cell_type": "code",
   "execution_count": 139,
   "id": "2d531c25",
   "metadata": {
    "tags": []
   },
   "outputs": [],
   "source": [
    "from sklearn import metrics"
   ]
  },
  {
   "cell_type": "code",
   "execution_count": 140,
   "id": "f3e1e3c8",
   "metadata": {
    "tags": []
   },
   "outputs": [],
   "source": [
    "auc = metrics.roc_auc_score(test_data['Status'], predictions_array)"
   ]
  },
  {
   "cell_type": "code",
   "execution_count": 141,
   "id": "359ba919",
   "metadata": {
    "tags": []
   },
   "outputs": [
    {
     "data": {
      "text/plain": [
       "0.7481060606060606"
      ]
     },
     "execution_count": 141,
     "metadata": {},
     "output_type": "execute_result"
    }
   ],
   "source": [
    "auc"
   ]
  },
  {
   "cell_type": "markdown",
   "id": "392ca7c5-385f-4c4d-b163-1fa9ac693674",
   "metadata": {
    "tags": []
   },
   "source": [
    "# Test the performance of the model"
   ]
  },
  {
   "cell_type": "code",
   "execution_count": 143,
   "id": "cced9dbc-f697-46e1-b865-3da6d1521d48",
   "metadata": {
    "tags": []
   },
   "outputs": [],
   "source": [
    "endpoint_name = 'xgboost-2023-04-13-15-25-19-248'"
   ]
  },
  {
   "cell_type": "code",
   "execution_count": 144,
   "id": "bd96a378-f5f3-4e2d-a49f-5c5a1a5b43b5",
   "metadata": {
    "tags": []
   },
   "outputs": [],
   "source": [
    "from sagemaker.predictor import Predictor"
   ]
  },
  {
   "cell_type": "code",
   "execution_count": 145,
   "id": "b847bcf6-6fdd-4e52-a3fe-05556c24cac6",
   "metadata": {
    "tags": []
   },
   "outputs": [],
   "source": [
    "from sagemaker.predictor import Predictor\n",
    "\n",
    "predictor = Predictor(\n",
    "    endpoint_name,\n",
    "    sagemaker_session=sess,\n",
    ")"
   ]
  },
  {
   "cell_type": "code",
   "execution_count": 185,
   "id": "6cb8e6bc-da52-44cf-a877-9efad5e38c1e",
   "metadata": {
    "tags": []
   },
   "outputs": [],
   "source": [
    "sample_record_csv = '''Gender,Married,Dependents,Education,Self_Employed,Applicant_Income,Coapplicant_Income,Loan_Amount,Term,Credit_History,Area\n",
    "1,0,0,1,0,584900,0,15000000,360,1,2\n",
    "'''"
   ]
  },
  {
   "cell_type": "code",
   "execution_count": 186,
   "id": "81f5bba8-77f0-47b5-bcdd-fb6d8d18eecc",
   "metadata": {
    "tags": []
   },
   "outputs": [],
   "source": [
    "import pandas as pd\n",
    "from io import StringIO"
   ]
  },
  {
   "cell_type": "code",
   "execution_count": 187,
   "id": "f1dad076-370b-4c90-b54f-9316eaea0428",
   "metadata": {
    "tags": []
   },
   "outputs": [],
   "source": [
    "sample_record_io = StringIO(sample_record_csv)\n",
    "sample_df = pd.read_csv(sample_record_io)"
   ]
  },
  {
   "cell_type": "code",
   "execution_count": 188,
   "id": "4437a41d-2d5d-46a7-a37f-e816640c859d",
   "metadata": {
    "tags": []
   },
   "outputs": [
    {
     "name": "stdout",
     "output_type": "stream",
     "text": [
      "Sample record to predict: 1,0,0,1,0,584900,0,15000000,360,1,2\n",
      "\n"
     ]
    }
   ],
   "source": [
    "sample_record_io = StringIO(sample_record_csv)\n",
    "sample_df = pd.read_csv(sample_record_io)\n",
    "\n",
    "#if contains_target_column:\n",
    "    # Drop the target column from the sample csv\n",
    "    #print(f\"Target column value of sample record: {sample_df.iloc[0][target_column_name]}\")\n",
    "    #sample_df = sample_df.drop(columns=[target_column_name])\n",
    "\n",
    "sample_record_payload = sample_df.to_csv(header=False, index=False)\n",
    "print(f\"Sample record to predict: {sample_record_payload}\")\n"
   ]
  },
  {
   "cell_type": "code",
   "execution_count": 189,
   "id": "bcc07382-4720-4ae4-a687-be02963fb6a2",
   "metadata": {
    "tags": []
   },
   "outputs": [
    {
     "name": "stdout",
     "output_type": "stream",
     "text": [
      "The predicted target is: b'0.8253770470619202'\n",
      "Loan has been approved\n"
     ]
    }
   ],
   "source": [
    "prediction = predictor.predict(sample_record_payload, initial_args={\"ContentType\": \"text/csv\"})\n",
    "\n",
    "print(f\"The predicted target is: {prediction}\")\n",
    "if prediction > b'0.7':\n",
    "  print(\"Loan has been approved\")\n",
    "elif prediction < b'0.7':\n",
    "  print(\"Loan has been denied\")"
   ]
  },
  {
   "cell_type": "code",
   "execution_count": 190,
   "id": "2c40476e-e725-4040-a989-59210a67a831",
   "metadata": {
    "tags": []
   },
   "outputs": [],
   "source": [
    "sample_record_csv2 = '''Gender,Married,Dependents,Education,Self_Employed,Applicant_Income,Coapplicant_Income,Loan_Amount,Term,Credit_History,Area\n",
    "0,1,0,1,0,90900,0,1000000,360,0,2\n",
    "'''"
   ]
  },
  {
   "cell_type": "code",
   "execution_count": 191,
   "id": "7a2e9d0c-76fc-4000-a022-90337f6a7f9e",
   "metadata": {
    "tags": []
   },
   "outputs": [],
   "source": [
    "sample_record_io = StringIO(sample_record_csv2)\n",
    "sample_df = pd.read_csv(sample_record_io)"
   ]
  },
  {
   "cell_type": "code",
   "execution_count": 192,
   "id": "926a2b3c-bdfb-44a5-a7d1-d4dc9aff6e44",
   "metadata": {
    "tags": []
   },
   "outputs": [
    {
     "name": "stdout",
     "output_type": "stream",
     "text": [
      "Sample record to predict: 0,1,0,1,0,90900,0,1000000,360,0,2\n",
      "\n"
     ]
    }
   ],
   "source": [
    "sample_record_io = StringIO(sample_record_csv2)\n",
    "sample_df = pd.read_csv(sample_record_io)\n",
    "\n",
    "#if contains_target_column:\n",
    "    # Drop the target column from the sample csv\n",
    "    #print(f\"Target column value of sample record: {sample_df.iloc[0][target_column_name]}\")\n",
    "    #sample_df = sample_df.drop(columns=[target_column_name])\n",
    "\n",
    "sample_record_payload = sample_df.to_csv(header=False, index=False)\n",
    "print(f\"Sample record to predict: {sample_record_payload}\")"
   ]
  },
  {
   "cell_type": "code",
   "execution_count": 193,
   "id": "276abee6-d6be-47f9-8f0b-2c19c8888e75",
   "metadata": {
    "tags": []
   },
   "outputs": [
    {
     "name": "stdout",
     "output_type": "stream",
     "text": [
      "The predicted target is: b'0.09601276367902756'\n",
      "Loan has been denied\n"
     ]
    }
   ],
   "source": [
    "prediction = predictor.predict(sample_record_payload, initial_args={\"ContentType\": \"text/csv\"})\n",
    "\n",
    "print(f\"The predicted target is: {prediction}\")\n",
    "if prediction > b'0.7':\n",
    "  print(\"Loan has been approved\")\n",
    "elif prediction < b'0.7':\n",
    "  print(\"Loan has been denied\")"
   ]
  },
  {
   "cell_type": "code",
   "execution_count": 194,
   "id": "e33aac8a-905c-4f03-bcc2-379123c09922",
   "metadata": {
    "tags": []
   },
   "outputs": [],
   "source": [
    "sample_record_csv3 = '''Gender,Married,Dependents,Education,Self_Employed,Applicant_Income,Coapplicant_Income,Loan_Amount,Term,Credit_History,Area\n",
    "0,1,1,1,0,900,0,5000000,360,1,1\n",
    "'''"
   ]
  },
  {
   "cell_type": "code",
   "execution_count": 195,
   "id": "3219b8be-c7e0-43d6-a66f-3e257a736446",
   "metadata": {
    "tags": []
   },
   "outputs": [
    {
     "name": "stdout",
     "output_type": "stream",
     "text": [
      "Sample record to predict: 0,1,1,1,0,900,0,5000000,360,1,1\n",
      "\n"
     ]
    }
   ],
   "source": [
    "sample_record_io = StringIO(sample_record_csv3)\n",
    "sample_df = pd.read_csv(sample_record_io)\n",
    "\n",
    "#if contains_target_column:\n",
    "    # Drop the target column from the sample csv\n",
    "    #print(f\"Target column value of sample record: {sample_df.iloc[0][target_column_name]}\")\n",
    "    #sample_df = sample_df.drop(columns=[target_column_name])\n",
    "\n",
    "sample_record_payload = sample_df.to_csv(header=False, index=False)\n",
    "print(f\"Sample record to predict: {sample_record_payload}\")"
   ]
  },
  {
   "cell_type": "code",
   "execution_count": 196,
   "id": "8c507d34-c2b8-4ec6-a234-ab856fe354d4",
   "metadata": {
    "tags": []
   },
   "outputs": [
    {
     "name": "stdout",
     "output_type": "stream",
     "text": [
      "The predicted target is: b'0.5597441792488098'\n",
      "Loan has been denied\n"
     ]
    }
   ],
   "source": [
    "prediction = predictor.predict(sample_record_payload, initial_args={\"ContentType\": \"text/csv\"})\n",
    "\n",
    "print(f\"The predicted target is: {prediction}\")\n",
    "if prediction > b'0.7':\n",
    "  print(\"Loan has been approved\")\n",
    "elif prediction < b'0.7':\n",
    "  print(\"Loan has been denied\")"
   ]
  },
  {
   "cell_type": "markdown",
   "id": "17d1c549-603d-4307-a7f3-016db11e9297",
   "metadata": {},
   "source": [
    "# Deleting the endpoint"
   ]
  },
  {
   "cell_type": "code",
   "execution_count": 111,
   "id": "a4c8e81f-3e1b-4143-a172-75c376fb3add",
   "metadata": {},
   "outputs": [
    {
     "name": "stderr",
     "output_type": "stream",
     "text": [
      "INFO:sagemaker:Deleting endpoint with name: xgboost-2023-04-10-19-17-45-819\n"
     ]
    },
    {
     "data": {
      "text/plain": [
       "[{'ResponseMetadata': {'RequestId': '0KK5Q1P1E8052R10',\n",
       "   'HostId': 'x8a1fHcQpA4ErVcZ4nZSdEsg9Yq/yBNhi2yZ6YH/OEtYTpsRHCToqZ33Y2ySf6FRRqCxO8TQVHg=',\n",
       "   'HTTPStatusCode': 200,\n",
       "   'HTTPHeaders': {'x-amz-id-2': 'x8a1fHcQpA4ErVcZ4nZSdEsg9Yq/yBNhi2yZ6YH/OEtYTpsRHCToqZ33Y2ySf6FRRqCxO8TQVHg=',\n",
       "    'x-amz-request-id': '0KK5Q1P1E8052R10',\n",
       "    'date': 'Mon, 10 Apr 2023 19:21:59 GMT',\n",
       "    'content-type': 'application/xml',\n",
       "    'transfer-encoding': 'chunked',\n",
       "    'server': 'AmazonS3',\n",
       "    'connection': 'close'},\n",
       "   'RetryAttempts': 0},\n",
       "  'Deleted': [{'Key': 'sagemaker/MLI-DEMO-xgboost-dm/output/xgb-linsearch-20230410-18-58-02-002-bb332d7e/output/model.tar.gz',\n",
       "    'DeleteMarker': True,\n",
       "    'DeleteMarkerVersionId': 'BDpnosAt__qxcZ.KebB4lfH_B8bXPJfx'},\n",
       "   {'Key': 'sagemaker/MLI-DEMO-xgboost-dm/output/xgboost-2023-04-10-18-53-15-484/profiler-output/system/training_job_end.ts',\n",
       "    'DeleteMarker': True,\n",
       "    'DeleteMarkerVersionId': 'F_ftEfKg9sdA7.Hc6RNOjpLp6dzWt_eW'},\n",
       "   {'Key': 'archive/loan_train.csv',\n",
       "    'DeleteMarker': True,\n",
       "    'DeleteMarkerVersionId': 'VngpxA6DhPzgny_or8pavHP_25Jzw4FM'},\n",
       "   {'Key': 'sagemaker/MLI-DEMO-xgboost-dm/output/xgboost-2023-04-10-18-53-15-484/profiler-output/system/incremental/2023041018/1681152900.algo-1.json',\n",
       "    'DeleteMarker': True,\n",
       "    'DeleteMarkerVersionId': 'AQucMC7Ax2o.YeKU1IHtFa9nCSTQG.5L'},\n",
       "   {'Key': 'archive/loan_test.csv',\n",
       "    'DeleteMarker': True,\n",
       "    'DeleteMarkerVersionId': 'L4p37x6MGbD32XBTWKn1LTHi1XKZ5qxt'},\n",
       "   {'Key': 'sagemaker/MLI-DEMO-xgboost-dm/output/xgboost-2023-04-10-18-53-15-484/profiler-output/system/incremental/2023041018/1681152960.algo-1.json',\n",
       "    'DeleteMarker': True,\n",
       "    'DeleteMarkerVersionId': 'FEhABpwa_0HBN6J3ZulJdbEUUXXk4mBG'},\n",
       "   {'Key': 'sagemaker/MLI-DEMO-xgboost-dm/validation/validation.csv',\n",
       "    'DeleteMarker': True,\n",
       "    'DeleteMarkerVersionId': 'kVFDhoCrryVSFW0hvXnbdZYmJ3MngjDe'},\n",
       "   {'Key': 'sagemaker/MLI-DEMO-xgboost-dm/output/xgb-linsearch-20230410-18-58-02-001-9c241cd9/output/model.tar.gz',\n",
       "    'DeleteMarker': True,\n",
       "    'DeleteMarkerVersionId': '3vkyD6t_0D_ecg1LLSG8R0i5Cn5WTM_r'},\n",
       "   {'Key': 'sagemaker/MLI-DEMO-xgboost-dm/output/xgb-linsearch-20230410-18-58-02-003-e4e3914c/output/model.tar.gz',\n",
       "    'DeleteMarker': True,\n",
       "    'DeleteMarkerVersionId': 'tjiUqikjJavfd5crSJnK1HsIiFQofIsl'},\n",
       "   {'Key': 'sagemaker/MLI-DEMO-xgboost-dm/output/xgboost-2023-04-10-18-53-15-484/debug-output/training_job_end.ts',\n",
       "    'DeleteMarker': True,\n",
       "    'DeleteMarkerVersionId': '5Mz5XmIOmqJ.y_n1moa_pun.T61tYFGM'},\n",
       "   {'Key': 'sagemaker/MLI-DEMO-xgboost-dm/output/xgb-linsearch-20230410-18-58-02-005-e161bcb8/output/model.tar.gz',\n",
       "    'DeleteMarker': True,\n",
       "    'DeleteMarkerVersionId': 'azJAvTJJmnr81WHnvUMU8xgHxlUsTqzB'},\n",
       "   {'Key': 'sagemaker/MLI-DEMO-xgboost-dm/train/train.csv',\n",
       "    'DeleteMarker': True,\n",
       "    'DeleteMarkerVersionId': 'uOAXaZi47TyjFBATKCwlrDzYd1mxAneN'},\n",
       "   {'Key': 'sagemaker/MLI-DEMO-xgboost-dm/output/xgboost-2023-04-10-18-53-15-484/output/model.tar.gz',\n",
       "    'DeleteMarker': True,\n",
       "    'DeleteMarkerVersionId': 'ILSFCyay1uHtbY3RJV9I6BLZ_oPNREoj'},\n",
       "   {'Key': 'sagemaker/MLI-DEMO-xgboost-dm/output/xgboost-2023-04-10-18-53-15-484/profiler-output/framework/training_job_end.ts',\n",
       "    'DeleteMarker': True,\n",
       "    'DeleteMarkerVersionId': '6gfUT_nnAyRy.AvUC79GsyDZw.e_4Xrk'},\n",
       "   {'Key': 'sagemaker/MLI-DEMO-xgboost-dm/output/xgb-linsearch-20230410-18-58-02-004-a73fb974/output/model.tar.gz',\n",
       "    'DeleteMarker': True,\n",
       "    'DeleteMarkerVersionId': 'faz5_sY.D2A9ixF9Atwx2ZkQ73slbaNI'}]}]"
      ]
     },
     "execution_count": 111,
     "metadata": {},
     "output_type": "execute_result"
    }
   ],
   "source": [
    "sess.delete_endpoint(endpoint_name=xgb_predictor.endpoint_name)\n",
    "#bucket_to_delete = boto3.resource('s3').Bucket(bucket_name)\n",
    "#bucket_to_delete.objects.all().delete()"
   ]
  },
  {
   "cell_type": "code",
   "execution_count": null,
   "id": "ef3a4635-5c7b-4566-abbb-16d5788d2ea2",
   "metadata": {},
   "outputs": [],
   "source": []
  }
 ],
 "metadata": {
  "kernelspec": {
   "display_name": "conda_pytorch_p39",
   "language": "python",
   "name": "conda_pytorch_p39"
  },
  "language_info": {
   "codemirror_mode": {
    "name": "ipython",
    "version": 3
   },
   "file_extension": ".py",
   "mimetype": "text/x-python",
   "name": "python",
   "nbconvert_exporter": "python",
   "pygments_lexer": "ipython3",
   "version": "3.9.15"
  }
 },
 "nbformat": 4,
 "nbformat_minor": 5
}
